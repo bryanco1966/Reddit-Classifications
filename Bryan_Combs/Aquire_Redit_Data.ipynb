{
 "cells": [
  {
   "cell_type": "markdown",
   "metadata": {},
   "source": [
    "## Use Redit API to Aquire Study Data"
   ]
  },
  {
   "cell_type": "markdown",
   "metadata": {},
   "source": [
    "### Data from redit/democrats\n",
    "\n",
    "In the following sections, the structure of the data is explored in order to allow the construction of a for loop to read in the data and output in a csv format."
   ]
  },
  {
   "cell_type": "code",
   "execution_count": 105,
   "metadata": {},
   "outputs": [],
   "source": [
    "import requests   #importing required Dictionaries\n",
    "import pandas as pd\n",
    "import json\n",
    "import time"
   ]
  },
  {
   "cell_type": "code",
   "execution_count": 109,
   "metadata": {},
   "outputs": [],
   "source": [
    "url = 'https://www.reddit.com/r/democrats/.json'"
   ]
  },
  {
   "cell_type": "code",
   "execution_count": 80,
   "metadata": {},
   "outputs": [],
   "source": [
    "res = requests.get(url, headers = {'User-agent': 'Snakes'})"
   ]
  },
  {
   "cell_type": "code",
   "execution_count": 81,
   "metadata": {},
   "outputs": [
    {
     "data": {
      "text/plain": [
       "200"
      ]
     },
     "execution_count": 81,
     "metadata": {},
     "output_type": "execute_result"
    }
   ],
   "source": [
    "res.status_code"
   ]
  },
  {
   "cell_type": "markdown",
   "metadata": {},
   "source": [
    "### Sort out the Structure of the Redit data"
   ]
  },
  {
   "cell_type": "code",
   "execution_count": 82,
   "metadata": {},
   "outputs": [],
   "source": [
    "data = res.json()   #get back information as a dictionary set it equal to data"
   ]
  },
  {
   "cell_type": "code",
   "execution_count": 83,
   "metadata": {},
   "outputs": [
    {
     "data": {
      "text/plain": [
       "dict_keys(['kind', 'data'])"
      ]
     },
     "execution_count": 83,
     "metadata": {},
     "output_type": "execute_result"
    }
   ],
   "source": [
    "data.keys()"
   ]
  },
  {
   "cell_type": "code",
   "execution_count": 84,
   "metadata": {},
   "outputs": [
    {
     "data": {
      "text/plain": [
       "'Listing'"
      ]
     },
     "execution_count": 84,
     "metadata": {},
     "output_type": "execute_result"
    }
   ],
   "source": [
    "data['kind']  #kind is not important "
   ]
  },
  {
   "cell_type": "code",
   "execution_count": 85,
   "metadata": {},
   "outputs": [
    {
     "data": {
      "text/plain": [
       "dict_keys(['modhash', 'dist', 'children', 'after', 'before'])"
      ]
     },
     "execution_count": 85,
     "metadata": {},
     "output_type": "execute_result"
    }
   ],
   "source": [
    "data['data'].keys()  #interested in data and it is a dictionary with the following keys"
   ]
  },
  {
   "cell_type": "code",
   "execution_count": 86,
   "metadata": {},
   "outputs": [
    {
     "data": {
      "text/plain": [
       "''"
      ]
     },
     "execution_count": 86,
     "metadata": {},
     "output_type": "execute_result"
    }
   ],
   "source": [
    "data['data']['modhash'] # Seems to be an empty string\n",
    "\n"
   ]
  },
  {
   "cell_type": "code",
   "execution_count": 87,
   "metadata": {},
   "outputs": [
    {
     "data": {
      "text/plain": [
       "26"
      ]
     },
     "execution_count": 87,
     "metadata": {},
     "output_type": "execute_result"
    }
   ],
   "source": [
    "data['data']['dist']  #an integer 26 the length of the list"
   ]
  },
  {
   "cell_type": "code",
   "execution_count": 88,
   "metadata": {
    "scrolled": false
   },
   "outputs": [
    {
     "data": {
      "text/plain": [
       "{'data': {'approved_at_utc': None,\n",
       "  'approved_by': None,\n",
       "  'archived': False,\n",
       "  'author': 'backpackwayne',\n",
       "  'author_flair_background_color': None,\n",
       "  'author_flair_css_class': None,\n",
       "  'author_flair_richtext': [],\n",
       "  'author_flair_template_id': None,\n",
       "  'author_flair_text': None,\n",
       "  'author_flair_text_color': None,\n",
       "  'author_flair_type': 'text',\n",
       "  'author_fullname': 't2_3ci9p',\n",
       "  'banned_at_utc': None,\n",
       "  'banned_by': None,\n",
       "  'can_gild': False,\n",
       "  'can_mod_post': False,\n",
       "  'category': None,\n",
       "  'clicked': False,\n",
       "  'content_categories': None,\n",
       "  'contest_mode': False,\n",
       "  'created': 1533708499.0,\n",
       "  'created_utc': 1533679699.0,\n",
       "  'distinguished': 'moderator',\n",
       "  'domain': 'self.democrats',\n",
       "  'downs': 0,\n",
       "  'edited': False,\n",
       "  'gilded': 0,\n",
       "  'hidden': False,\n",
       "  'hide_score': False,\n",
       "  'id': '95g5w2',\n",
       "  'is_crosspostable': False,\n",
       "  'is_meta': False,\n",
       "  'is_original_content': False,\n",
       "  'is_reddit_media_domain': False,\n",
       "  'is_self': True,\n",
       "  'is_video': False,\n",
       "  'likes': None,\n",
       "  'link_flair_background_color': '',\n",
       "  'link_flair_css_class': None,\n",
       "  'link_flair_richtext': [],\n",
       "  'link_flair_template_id': None,\n",
       "  'link_flair_text': None,\n",
       "  'link_flair_text_color': 'dark',\n",
       "  'link_flair_type': 'text',\n",
       "  'locked': False,\n",
       "  'media': None,\n",
       "  'media_embed': {},\n",
       "  'media_only': False,\n",
       "  'mod_note': None,\n",
       "  'mod_reason_by': None,\n",
       "  'mod_reason_title': None,\n",
       "  'mod_reports': [],\n",
       "  'name': 't3_95g5w2',\n",
       "  'no_follow': False,\n",
       "  'num_comments': 224,\n",
       "  'num_crossposts': 0,\n",
       "  'num_reports': None,\n",
       "  'over_18': False,\n",
       "  'parent_whitelist_status': 'all_ads',\n",
       "  'permalink': '/r/democrats/comments/95g5w2/the_time_for_unity_is_now_a_progressive_and_a/',\n",
       "  'pinned': False,\n",
       "  'post_hint': 'self',\n",
       "  'preview': {'enabled': False,\n",
       "   'images': [{'id': '3gA0s7l2h_46vCMggIkZDEsknQOHXkayBFBOyYosYP4',\n",
       "     'resolutions': [{'height': 108,\n",
       "       'url': 'https://i.redditmedia.com/g39HCR3LuL3mqYN9j0VvcBQihvhMe4QGGCdSIhHg2Vg.jpg?fit=crop&amp;crop=faces%2Centropy&amp;arh=2&amp;w=108&amp;s=5e60defbf6c0001cbf3eee4e37a5fc5e',\n",
       "       'width': 108},\n",
       "      {'height': 216,\n",
       "       'url': 'https://i.redditmedia.com/g39HCR3LuL3mqYN9j0VvcBQihvhMe4QGGCdSIhHg2Vg.jpg?fit=crop&amp;crop=faces%2Centropy&amp;arh=2&amp;w=216&amp;s=32cab99a9eee206b38ce569d54430e43',\n",
       "       'width': 216}],\n",
       "     'source': {'height': 316,\n",
       "      'url': 'https://i.redditmedia.com/g39HCR3LuL3mqYN9j0VvcBQihvhMe4QGGCdSIhHg2Vg.jpg?s=654e2891b340bd840f0a15bc37d9b4b7',\n",
       "      'width': 316},\n",
       "     'variants': {}}]},\n",
       "  'pwls': 6,\n",
       "  'quarantine': False,\n",
       "  'removal_reason': None,\n",
       "  'report_reasons': None,\n",
       "  'saved': False,\n",
       "  'score': 78,\n",
       "  'secure_media': None,\n",
       "  'secure_media_embed': {},\n",
       "  'selftext': 'We are two of r/democrats more vocal members from opposite sides of the aisle. /u/Caveliertunes speaks out for Progressives and I, /u/backpackwayne, encourage the more Centrist view. We both have our arguments, and we both do our best to convince others of our position. But with exactly two months until a crucial election, we have decided to join together and urge unity, if only for a short time. \\n The following are statements are from each of us and we only ask that you listen.\\n\\n\\n-----------------\\n\\n\\n**From /u/backpackwayne:**\\n\\nThe Democratic Party has been in a struggle for control for over two years now, and this battle has taken its toll. Republicans are giddy as we are doing their job for them. Progressives and Centrists want the same things but differ on how to achieve them. But we do want the same things. Putting that aside, it is time to look at reality. If democrats do not win back the house and/or the senate in this election, we will face another two years of our democracy being shredded by an inept and callous Trump administration. They will stack the courts, take away our rights, abuse and pollute our justice system, destroy our environment, and eliminate any chance for universal healthcare for at least a decade.\\n\\nThe fight for the left should take place in the primaries. **THE PRIMARIES ARE NOW OVER!**  In the next two months we must unite and fight for the candidates that have been chosen. If we don’t, it won’t matter who controls the left. We can get back to that battle later after the election. It is imperative that we put aside our differences for the time being and stop fighting with each other. We all know who the real threat to our democracy is. So please stop this infighting and join together to achieve step one our both our goals. We need to first stop the bleeding and prevent any further damage by gaining control of at least one chamber of Congress. As a united front, there is no stopping us. Divided we face the worst threat to our democracy in yours and my lifetime.\\n\\n-----------------\\n\\n\\n**From /u/Caveliertunes:**\\n\\nUnderstandably, there are still many hurt feelings and resentment left over from 2016. We all understand. Many Progressives feel unwelcome and belittled. Many Centrists feel like they are consistently under attack. If you feel like your fellow Democrats who are of an alternative viewpoint are not respecting you, remember they likely feel the same way. Empathy is an important trait to have right now. It is something we have over the Republican Party; it is something we need to utilize—not only to defeat them but to work together. We, as a party, must be able to combine our efforts if we are to achieve any of our goals. Perhaps it is ironic that the man who said it best was a Republican himself, Abraham Lincoln: \"A house divided against itself, cannot stand.\"\\n\\nWe may not ever all completely agree, but that is what makes us great. That is what makes us strong and resilient! As many have often said: we are a \"big tent party.\" We can disagree; we can like different politicians; we can debate about the issues. However, we cannot waver: **Not now!** \\n\\n**THE PRIMARIES ARE NOW OVER.** Progressives and Centrists both had significant victories in the primaries this year, and it is becoming increasingly evident that both sides have a place in the Democratic Party. We all have a voice, and those voices are heard loud and clear. However, once the primaries end, we need to put aside any lingering resentment and work toward achieving our common goal. We\\'ve all decided that the Republican Party is dangerous! Even if we can\\'t get everything we want out of the election, we can at least achieve that shared objective.\\n\\nProgressivism is necessary to push forward toward ideals we must achieve as a nation. Centrism is essential to moderate, balance, and work pragmatically when needed, so we don\\'t fizzle out before the fight begins. We are sides of the same coin. We are all necessary for a complete and robust Democratic Party. Progressives and Centrists are both the \"base\" of the party: We need one another! Let\\'s make sure we find ourselves in a position where we can affect policy and help both the party and the country grow!\\n\\nRespect one another. Respect each other\\'s points of view and preferences. Let\\'s show a united front now and in November, and grind out our differences after the election.\\n\\n\\n---------------------\\n\\n#REGISTER TO VOTE HERE NOW!\\n\\n* https://vote.gov/\\n\\n',\n",
       "  'selftext_html': '&lt;!-- SC_OFF --&gt;&lt;div class=\"md\"&gt;&lt;p&gt;We are two of &lt;a href=\"/r/democrats\"&gt;r/democrats&lt;/a&gt; more vocal members from opposite sides of the aisle. &lt;a href=\"/u/Caveliertunes\"&gt;/u/Caveliertunes&lt;/a&gt; speaks out for Progressives and I, &lt;a href=\"/u/backpackwayne\"&gt;/u/backpackwayne&lt;/a&gt;, encourage the more Centrist view. We both have our arguments, and we both do our best to convince others of our position. But with exactly two months until a crucial election, we have decided to join together and urge unity, if only for a short time. \\n The following are statements are from each of us and we only ask that you listen.&lt;/p&gt;\\n\\n&lt;hr/&gt;\\n\\n&lt;p&gt;&lt;strong&gt;From &lt;a href=\"/u/backpackwayne\"&gt;/u/backpackwayne&lt;/a&gt;:&lt;/strong&gt;&lt;/p&gt;\\n\\n&lt;p&gt;The Democratic Party has been in a struggle for control for over two years now, and this battle has taken its toll. Republicans are giddy as we are doing their job for them. Progressives and Centrists want the same things but differ on how to achieve them. But we do want the same things. Putting that aside, it is time to look at reality. If democrats do not win back the house and/or the senate in this election, we will face another two years of our democracy being shredded by an inept and callous Trump administration. They will stack the courts, take away our rights, abuse and pollute our justice system, destroy our environment, and eliminate any chance for universal healthcare for at least a decade.&lt;/p&gt;\\n\\n&lt;p&gt;The fight for the left should take place in the primaries. &lt;strong&gt;THE PRIMARIES ARE NOW OVER!&lt;/strong&gt;  In the next two months we must unite and fight for the candidates that have been chosen. If we don’t, it won’t matter who controls the left. We can get back to that battle later after the election. It is imperative that we put aside our differences for the time being and stop fighting with each other. We all know who the real threat to our democracy is. So please stop this infighting and join together to achieve step one our both our goals. We need to first stop the bleeding and prevent any further damage by gaining control of at least one chamber of Congress. As a united front, there is no stopping us. Divided we face the worst threat to our democracy in yours and my lifetime.&lt;/p&gt;\\n\\n&lt;hr/&gt;\\n\\n&lt;p&gt;&lt;strong&gt;From &lt;a href=\"/u/Caveliertunes\"&gt;/u/Caveliertunes&lt;/a&gt;:&lt;/strong&gt;&lt;/p&gt;\\n\\n&lt;p&gt;Understandably, there are still many hurt feelings and resentment left over from 2016. We all understand. Many Progressives feel unwelcome and belittled. Many Centrists feel like they are consistently under attack. If you feel like your fellow Democrats who are of an alternative viewpoint are not respecting you, remember they likely feel the same way. Empathy is an important trait to have right now. It is something we have over the Republican Party; it is something we need to utilize—not only to defeat them but to work together. We, as a party, must be able to combine our efforts if we are to achieve any of our goals. Perhaps it is ironic that the man who said it best was a Republican himself, Abraham Lincoln: &amp;quot;A house divided against itself, cannot stand.&amp;quot;&lt;/p&gt;\\n\\n&lt;p&gt;We may not ever all completely agree, but that is what makes us great. That is what makes us strong and resilient! As many have often said: we are a &amp;quot;big tent party.&amp;quot; We can disagree; we can like different politicians; we can debate about the issues. However, we cannot waver: &lt;strong&gt;Not now!&lt;/strong&gt; &lt;/p&gt;\\n\\n&lt;p&gt;&lt;strong&gt;THE PRIMARIES ARE NOW OVER.&lt;/strong&gt; Progressives and Centrists both had significant victories in the primaries this year, and it is becoming increasingly evident that both sides have a place in the Democratic Party. We all have a voice, and those voices are heard loud and clear. However, once the primaries end, we need to put aside any lingering resentment and work toward achieving our common goal. We&amp;#39;ve all decided that the Republican Party is dangerous! Even if we can&amp;#39;t get everything we want out of the election, we can at least achieve that shared objective.&lt;/p&gt;\\n\\n&lt;p&gt;Progressivism is necessary to push forward toward ideals we must achieve as a nation. Centrism is essential to moderate, balance, and work pragmatically when needed, so we don&amp;#39;t fizzle out before the fight begins. We are sides of the same coin. We are all necessary for a complete and robust Democratic Party. Progressives and Centrists are both the &amp;quot;base&amp;quot; of the party: We need one another! Let&amp;#39;s make sure we find ourselves in a position where we can affect policy and help both the party and the country grow!&lt;/p&gt;\\n\\n&lt;p&gt;Respect one another. Respect each other&amp;#39;s points of view and preferences. Let&amp;#39;s show a united front now and in November, and grind out our differences after the election.&lt;/p&gt;\\n\\n&lt;hr/&gt;\\n\\n&lt;h1&gt;REGISTER TO VOTE HERE NOW!&lt;/h1&gt;\\n\\n&lt;ul&gt;\\n&lt;li&gt;&lt;a href=\"https://vote.gov/\"&gt;https://vote.gov/&lt;/a&gt;&lt;/li&gt;\\n&lt;/ul&gt;\\n&lt;/div&gt;&lt;!-- SC_ON --&gt;',\n",
       "  'send_replies': True,\n",
       "  'spoiler': False,\n",
       "  'stickied': True,\n",
       "  'subreddit': 'democrats',\n",
       "  'subreddit_id': 't5_2qn70',\n",
       "  'subreddit_name_prefixed': 'r/democrats',\n",
       "  'subreddit_subscribers': 66493,\n",
       "  'subreddit_type': 'public',\n",
       "  'suggested_sort': None,\n",
       "  'thumbnail': 'self',\n",
       "  'thumbnail_height': None,\n",
       "  'thumbnail_width': None,\n",
       "  'title': 'THE TIME FOR UNITY IS NOW - A Progressive and a Centrist Speak Out',\n",
       "  'ups': 78,\n",
       "  'url': 'https://www.reddit.com/r/democrats/comments/95g5w2/the_time_for_unity_is_now_a_progressive_and_a/',\n",
       "  'user_reports': [],\n",
       "  'view_count': None,\n",
       "  'visited': False,\n",
       "  'whitelist_status': 'all_ads',\n",
       "  'wls': 6},\n",
       " 'kind': 't3'}"
      ]
     },
     "execution_count": 88,
     "metadata": {},
     "output_type": "execute_result"
    }
   ],
   "source": [
    "data['data']['children'][0]   #list of objects"
   ]
  },
  {
   "cell_type": "code",
   "execution_count": 89,
   "metadata": {},
   "outputs": [
    {
     "data": {
      "text/plain": [
       "'t3_9cofaf'"
      ]
     },
     "execution_count": 89,
     "metadata": {},
     "output_type": "execute_result"
    }
   ],
   "source": [
    "data['data']['after'] #Location string"
   ]
  },
  {
   "cell_type": "code",
   "execution_count": 90,
   "metadata": {},
   "outputs": [],
   "source": [
    "data['data']['before']  #empty right now"
   ]
  },
  {
   "cell_type": "code",
   "execution_count": 91,
   "metadata": {
    "scrolled": true
   },
   "outputs": [
    {
     "name": "stdout",
     "output_type": "stream",
     "text": [
      "26\n"
     ]
    }
   ],
   "source": [
    "print(len(data['data']['children']))"
   ]
  },
  {
   "cell_type": "code",
   "execution_count": 92,
   "metadata": {},
   "outputs": [
    {
     "data": {
      "text/html": [
       "<div>\n",
       "<style scoped>\n",
       "    .dataframe tbody tr th:only-of-type {\n",
       "        vertical-align: middle;\n",
       "    }\n",
       "\n",
       "    .dataframe tbody tr th {\n",
       "        vertical-align: top;\n",
       "    }\n",
       "\n",
       "    .dataframe thead th {\n",
       "        text-align: right;\n",
       "    }\n",
       "</style>\n",
       "<table border=\"1\" class=\"dataframe\">\n",
       "  <thead>\n",
       "    <tr style=\"text-align: right;\">\n",
       "      <th></th>\n",
       "      <th>approved_at_utc</th>\n",
       "      <th>approved_by</th>\n",
       "      <th>archived</th>\n",
       "      <th>author</th>\n",
       "      <th>author_flair_background_color</th>\n",
       "      <th>author_flair_css_class</th>\n",
       "      <th>author_flair_richtext</th>\n",
       "      <th>author_flair_template_id</th>\n",
       "      <th>author_flair_text</th>\n",
       "      <th>author_flair_text_color</th>\n",
       "      <th>...</th>\n",
       "      <th>thumbnail_height</th>\n",
       "      <th>thumbnail_width</th>\n",
       "      <th>title</th>\n",
       "      <th>ups</th>\n",
       "      <th>url</th>\n",
       "      <th>user_reports</th>\n",
       "      <th>view_count</th>\n",
       "      <th>visited</th>\n",
       "      <th>whitelist_status</th>\n",
       "      <th>wls</th>\n",
       "    </tr>\n",
       "  </thead>\n",
       "  <tbody>\n",
       "    <tr>\n",
       "      <th>0</th>\n",
       "      <td>None</td>\n",
       "      <td>None</td>\n",
       "      <td>False</td>\n",
       "      <td>tehForce</td>\n",
       "      <td></td>\n",
       "      <td>None</td>\n",
       "      <td>[{'e': 'text', 't': 'Liberal Education != Purp...</td>\n",
       "      <td>None</td>\n",
       "      <td>Liberal Education != Purple Hair</td>\n",
       "      <td>dark</td>\n",
       "      <td>...</td>\n",
       "      <td>NaN</td>\n",
       "      <td>NaN</td>\n",
       "      <td>Michael Oakeshott - this week's sidebar tribute</td>\n",
       "      <td>43</td>\n",
       "      <td>https://www.reddit.com/r/Conservative/comments...</td>\n",
       "      <td>[]</td>\n",
       "      <td>None</td>\n",
       "      <td>False</td>\n",
       "      <td>all_ads</td>\n",
       "      <td>6</td>\n",
       "    </tr>\n",
       "    <tr>\n",
       "      <th>1</th>\n",
       "      <td>None</td>\n",
       "      <td>None</td>\n",
       "      <td>False</td>\n",
       "      <td>thatrightwinger</td>\n",
       "      <td></td>\n",
       "      <td>Far-Right</td>\n",
       "      <td>[{'e': 'text', 't': 'Don't Tread on Me'}]</td>\n",
       "      <td>9b86186a-8b38-11e1-8f58-12313d2c1af1</td>\n",
       "      <td>Don't Tread on Me</td>\n",
       "      <td>dark</td>\n",
       "      <td>...</td>\n",
       "      <td>105.0</td>\n",
       "      <td>140.0</td>\n",
       "      <td>Watch Live: Judge Brett Kavanaugh's confirmati...</td>\n",
       "      <td>14</td>\n",
       "      <td>https://www.youtube.com/watch?v=h8il9dAhA00</td>\n",
       "      <td>[]</td>\n",
       "      <td>None</td>\n",
       "      <td>False</td>\n",
       "      <td>all_ads</td>\n",
       "      <td>6</td>\n",
       "    </tr>\n",
       "    <tr>\n",
       "      <th>2</th>\n",
       "      <td>None</td>\n",
       "      <td>None</td>\n",
       "      <td>False</td>\n",
       "      <td>chabanais</td>\n",
       "      <td></td>\n",
       "      <td>Bold</td>\n",
       "      <td>[{'e': 'text', 't': 'Stronger than derp'}]</td>\n",
       "      <td>None</td>\n",
       "      <td>Stronger than derp</td>\n",
       "      <td>dark</td>\n",
       "      <td>...</td>\n",
       "      <td>140.0</td>\n",
       "      <td>140.0</td>\n",
       "      <td>Ben Shapiro lays them away...</td>\n",
       "      <td>883</td>\n",
       "      <td>https://i.redd.it/i3xkb1sgb8k11.jpg</td>\n",
       "      <td>[]</td>\n",
       "      <td>None</td>\n",
       "      <td>False</td>\n",
       "      <td>all_ads</td>\n",
       "      <td>6</td>\n",
       "    </tr>\n",
       "    <tr>\n",
       "      <th>3</th>\n",
       "      <td>None</td>\n",
       "      <td>None</td>\n",
       "      <td>False</td>\n",
       "      <td>optionhome</td>\n",
       "      <td></td>\n",
       "      <td>Conservative</td>\n",
       "      <td>[{'e': 'text', 't': 'Conservative'}]</td>\n",
       "      <td>421b644c-8b38-11e1-bc5f-12313d18ad57</td>\n",
       "      <td>Conservative</td>\n",
       "      <td>dark</td>\n",
       "      <td>...</td>\n",
       "      <td>103.0</td>\n",
       "      <td>140.0</td>\n",
       "      <td>Rev. Jasper Williams Jr...\"children being in a...</td>\n",
       "      <td>591</td>\n",
       "      <td>https://apnews.com/2a382030f1964300ae27d05d351...</td>\n",
       "      <td>[]</td>\n",
       "      <td>None</td>\n",
       "      <td>False</td>\n",
       "      <td>all_ads</td>\n",
       "      <td>6</td>\n",
       "    </tr>\n",
       "    <tr>\n",
       "      <th>4</th>\n",
       "      <td>None</td>\n",
       "      <td>None</td>\n",
       "      <td>False</td>\n",
       "      <td>sylect</td>\n",
       "      <td></td>\n",
       "      <td>Neoconservative</td>\n",
       "      <td>[{'e': 'text', 't': 'Uranus Astronaut'}]</td>\n",
       "      <td>2f6dbf84-8b38-11e1-bc5f-12313d18ad57</td>\n",
       "      <td>Uranus Astronaut</td>\n",
       "      <td>dark</td>\n",
       "      <td>...</td>\n",
       "      <td>73.0</td>\n",
       "      <td>140.0</td>\n",
       "      <td>Huge Number Of Illegals Opting Out Of Welfare ...</td>\n",
       "      <td>434</td>\n",
       "      <td>https://www.dailywire.com/news/35386/report-il...</td>\n",
       "      <td>[]</td>\n",
       "      <td>None</td>\n",
       "      <td>False</td>\n",
       "      <td>all_ads</td>\n",
       "      <td>6</td>\n",
       "    </tr>\n",
       "  </tbody>\n",
       "</table>\n",
       "<p>5 rows × 95 columns</p>\n",
       "</div>"
      ],
      "text/plain": [
       "  approved_at_utc approved_by  archived           author  \\\n",
       "0            None        None     False         tehForce   \n",
       "1            None        None     False  thatrightwinger   \n",
       "2            None        None     False        chabanais   \n",
       "3            None        None     False       optionhome   \n",
       "4            None        None     False           sylect   \n",
       "\n",
       "  author_flair_background_color author_flair_css_class  \\\n",
       "0                                                 None   \n",
       "1                                            Far-Right   \n",
       "2                                                 Bold   \n",
       "3                                         Conservative   \n",
       "4                                      Neoconservative   \n",
       "\n",
       "                               author_flair_richtext  \\\n",
       "0  [{'e': 'text', 't': 'Liberal Education != Purp...   \n",
       "1          [{'e': 'text', 't': 'Don't Tread on Me'}]   \n",
       "2         [{'e': 'text', 't': 'Stronger than derp'}]   \n",
       "3               [{'e': 'text', 't': 'Conservative'}]   \n",
       "4           [{'e': 'text', 't': 'Uranus Astronaut'}]   \n",
       "\n",
       "               author_flair_template_id                 author_flair_text  \\\n",
       "0                                  None  Liberal Education != Purple Hair   \n",
       "1  9b86186a-8b38-11e1-8f58-12313d2c1af1                 Don't Tread on Me   \n",
       "2                                  None                Stronger than derp   \n",
       "3  421b644c-8b38-11e1-bc5f-12313d18ad57                      Conservative   \n",
       "4  2f6dbf84-8b38-11e1-bc5f-12313d18ad57                  Uranus Astronaut   \n",
       "\n",
       "  author_flair_text_color ...  thumbnail_height thumbnail_width  \\\n",
       "0                    dark ...               NaN             NaN   \n",
       "1                    dark ...             105.0           140.0   \n",
       "2                    dark ...             140.0           140.0   \n",
       "3                    dark ...             103.0           140.0   \n",
       "4                    dark ...              73.0           140.0   \n",
       "\n",
       "                                               title  ups  \\\n",
       "0    Michael Oakeshott - this week's sidebar tribute   43   \n",
       "1  Watch Live: Judge Brett Kavanaugh's confirmati...   14   \n",
       "2                      Ben Shapiro lays them away...  883   \n",
       "3  Rev. Jasper Williams Jr...\"children being in a...  591   \n",
       "4  Huge Number Of Illegals Opting Out Of Welfare ...  434   \n",
       "\n",
       "                                                 url  user_reports view_count  \\\n",
       "0  https://www.reddit.com/r/Conservative/comments...            []       None   \n",
       "1        https://www.youtube.com/watch?v=h8il9dAhA00            []       None   \n",
       "2                https://i.redd.it/i3xkb1sgb8k11.jpg            []       None   \n",
       "3  https://apnews.com/2a382030f1964300ae27d05d351...            []       None   \n",
       "4  https://www.dailywire.com/news/35386/report-il...            []       None   \n",
       "\n",
       "   visited whitelist_status  wls  \n",
       "0    False          all_ads    6  \n",
       "1    False          all_ads    6  \n",
       "2    False          all_ads    6  \n",
       "3    False          all_ads    6  \n",
       "4    False          all_ads    6  \n",
       "\n",
       "[5 rows x 95 columns]"
      ]
     },
     "execution_count": 92,
     "metadata": {},
     "output_type": "execute_result"
    }
   ],
   "source": [
    "redit_posts = [post['data'] for post in data['data']['children']]\n",
    "\n",
    "pd.DataFrame(posts).head()"
   ]
  },
  {
   "cell_type": "code",
   "execution_count": 93,
   "metadata": {},
   "outputs": [
    {
     "data": {
      "text/plain": [
       "'https://www.reddit.com/r/democrats/.json?aftert3_9cwoyu'"
      ]
     },
     "execution_count": 93,
     "metadata": {},
     "output_type": "execute_result"
    }
   ],
   "source": [
    "current_url = url + '?after' + current_dict['data']['after']\n",
    "current_url\n",
    "\n",
    "#need to go back to video not bringing in new data"
   ]
  },
  {
   "cell_type": "markdown",
   "metadata": {},
   "source": [
    "### Set a loop to get a larger quantity of post\n",
    "\n",
    "The program can now get and understand a data request.  However more than 25 cases are needed for the analysis so created a loop to get more data.  Ran the loop multiple times to get more than the 1000 cases allowed normally.  Selected on after variable to make sure and get unique cases."
   ]
  },
  {
   "cell_type": "markdown",
   "metadata": {},
   "source": [
    "Running the Cells below should collect the data and save it to a csv file.  "
   ]
  },
  {
   "cell_type": "code",
   "execution_count": 188,
   "metadata": {},
   "outputs": [],
   "source": [
    "import requests   #importing required Dictionaries\n",
    "import pandas as pd\n",
    "import json\n",
    "import time"
   ]
  },
  {
   "cell_type": "code",
   "execution_count": 189,
   "metadata": {},
   "outputs": [],
   "source": [
    "posts = [] #above code was to figure out structure  this loop should do it all\n"
   ]
  },
  {
   "cell_type": "code",
   "execution_count": 190,
   "metadata": {},
   "outputs": [],
   "source": [
    "import requests \n",
    "after = None\n",
    "url = 'https://www.reddit.com/r/democrats/.json'\n",
    "#code below is the loop to get the data and save it to the dataframe"
   ]
  },
  {
   "cell_type": "code",
   "execution_count": null,
   "metadata": {},
   "outputs": [],
   "source": []
  },
  {
   "cell_type": "code",
   "execution_count": 191,
   "metadata": {
    "scrolled": false
   },
   "outputs": [
    {
     "name": "stdout",
     "output_type": "stream",
     "text": [
      "0 None\n",
      "26 t3_9dollh\n",
      "51 t3_9djch3\n",
      "76 t3_9dcqw7\n",
      "101 t3_9d166j\n",
      "126 t3_9d24io\n",
      "151 t3_9cxdic\n",
      "176 t3_9cv8s6\n",
      "201 t3_9cquei\n",
      "226 t3_9cclz5\n",
      "251 t3_9c8009\n",
      "276 t3_9c9483\n",
      "301 t3_9c1cfa\n",
      "326 t3_9bypjm\n",
      "351 t3_9bt508\n",
      "376 t3_9be585\n",
      "401 t3_9bhfvm\n",
      "426 t3_9b6a6i\n",
      "451 t3_9aq5rv\n",
      "476 t3_9auh6x\n",
      "501 t3_9ald3a\n",
      "526 t3_9acw2u\n",
      "551 t3_9a6lhe\n",
      "576 t3_9a7835\n",
      "601 t3_99y4kc\n",
      "626 t3_99unb9\n",
      "651 t3_99o3km\n",
      "676 t3_99l25r\n",
      "701 t3_99aodd\n",
      "726 t3_998lf4\n",
      "751 t3_98yjm0\n",
      "776 t3_98n33j\n",
      "801 t3_98qgud\n",
      "826 t3_98nepr\n",
      "851 t3_98lvjh\n"
     ]
    }
   ],
   "source": [
    "for _ in range(35):  # for loop to his reddit mulitiple times.  \n",
    "    if after == None:\n",
    "        current_url = url\n",
    "    else: \n",
    "        current_url = url + '?after=' + current_dict['data']['after']    \n",
    "    res = requests.get(current_url, headers = {'User-agent': 'Snake_2'}) \n",
    "    current_dict = res.json()\n",
    "    if res.status_code != 200:\n",
    "        print('res error ',  res.status_code)\n",
    "        break\n",
    "    else:\n",
    "        print(len(posts), after)\n",
    "   \n",
    "   \n",
    "    redit_posts = [post['data'] for post in current_dict['data']['children']]\n",
    "    posts.extend(redit_posts)\n",
    "    \n",
    "    after = current_dict['data']['after']\n",
    "    \n",
    "    time.sleep(4)\n",
    "    pd.DataFrame(posts).to_csv('./data/democratic.csv', index = False)\n",
    "   \n",
    "    "
   ]
  },
  {
   "cell_type": "code",
   "execution_count": 192,
   "metadata": {},
   "outputs": [
    {
     "name": "stdout",
     "output_type": "stream",
     "text": [
      "876\n"
     ]
    }
   ],
   "source": [
    "print(len(posts))\n",
    " \n",
    "\n",
    "   "
   ]
  },
  {
   "cell_type": "markdown",
   "metadata": {},
   "source": [
    "### Aquire Posts from Republican Redit \n",
    "\n",
    "The posts from the democratic reddit have been obtained and saved as a csv file.  Now republican redit posts must be acquired for the analysis"
   ]
  },
  {
   "cell_type": "code",
   "execution_count": 199,
   "metadata": {},
   "outputs": [],
   "source": [
    "posts_r = []\n"
   ]
  },
  {
   "cell_type": "code",
   "execution_count": 200,
   "metadata": {
    "focus": false,
    "id": "783fd153-28ac-47ab-bfca-27e7c1de95b4"
   },
   "outputs": [],
   "source": [
    "url = 'https://www.reddit.com/r/Conservative/.json'\n",
    "\n",
    "after_r = None"
   ]
  },
  {
   "cell_type": "code",
   "execution_count": 201,
   "metadata": {
    "scrolled": true
   },
   "outputs": [
    {
     "name": "stdout",
     "output_type": "stream",
     "text": [
      "0 None\n",
      "27 t3_9djca7\n",
      "52 t3_9dlw1k\n",
      "77 t3_9dnjbl\n",
      "102 t3_9d8a5n\n",
      "127 t3_9de5ov\n",
      "152 t3_9d8mx8\n",
      "177 t3_9d9fft\n",
      "202 t3_9d95w1\n",
      "227 t3_9cwoq1\n",
      "252 t3_9cyvm5\n",
      "277 t3_9d8ajw\n",
      "302 t3_9d2a3g\n",
      "327 t3_9csodo\n",
      "352 t3_9d0ap6\n",
      "377 t3_9cppz4\n",
      "402 t3_9coleh\n",
      "427 t3_9cm7b4\n",
      "452 t3_9cldr3\n",
      "477 t3_9cd8ru\n",
      "502 t3_9cdhn8\n",
      "527 t3_9c7kyx\n",
      "552 t3_9c4c0m\n",
      "577 t3_9c4mwr\n",
      "602 t3_9bx9z6\n",
      "627 t3_9bz6k0\n",
      "652 t3_9bwm68\n",
      "677 t3_9byq4q\n",
      "702 t3_9bpc9j\n",
      "727 t3_9bjkvq\n",
      "752 t3_9bl8xa\n",
      "777 t3_9bmb7z\n"
     ]
    }
   ],
   "source": [
    "#set up the same for loop for conservative posts from this subredit\n",
    "for _ in range(32):  # for loop to his reddit mulitiple times.  \n",
    "    if after_r == None:\n",
    "        current_url = url\n",
    "    else: \n",
    "        current_url = url + '?after=' + after_r \n",
    "    #find new url   \n",
    "    res = requests.get(current_url, headers = {'User-agent': 'Snake_2'}) \n",
    "    current_dict = res.json()\n",
    "    #break if a problem\n",
    "    if res.status_code != 200:\n",
    "        print('res error ',  res.status_code)\n",
    "        break\n",
    "    else:\n",
    "        print(len(posts_r), after_r)\n",
    " \n",
    "    #add new posts to list  \n",
    "    redit_posts = [reddit['data'] for reddit in current_dict['data']['children']]\n",
    "    posts_r.extend(redit_posts)\n",
    "        \n",
    "    after_r = current_dict['data']['after']\n",
    "    time.sleep(4) #time between scrapes\n",
    "    pd.DataFrame(posts_r).to_csv('./data/republican.csv', index = False)\n"
   ]
  },
  {
   "cell_type": "code",
   "execution_count": 202,
   "metadata": {
    "scrolled": false
   },
   "outputs": [
    {
     "data": {
      "text/plain": [
       "799"
      ]
     },
     "execution_count": 202,
     "metadata": {},
     "output_type": "execute_result"
    }
   ],
   "source": [
    "len(posts_r)"
   ]
  },
  {
   "cell_type": "markdown",
   "metadata": {},
   "source": [
    "Have 801 conservative posts saved to republican.csv.  r/Conservative circled back to the start earlier  than r/democrat but seemed to cut off earlier. There are 876 r/democrat posts. "
   ]
  },
  {
   "cell_type": "code",
   "execution_count": null,
   "metadata": {
    "collapsed": true
   },
   "outputs": [],
   "source": [
    "## YOUR CODE HERE"
   ]
  },
  {
   "cell_type": "code",
   "execution_count": null,
   "metadata": {
    "collapsed": true,
    "focus": false,
    "id": "588f9845-6143-4bcc-bfd1-85d45b79303d"
   },
   "outputs": [],
   "source": [
    "## YOUR CODE HERE"
   ]
  }
 ],
 "metadata": {
  "anaconda-cloud": {},
  "kernelspec": {
   "display_name": "Python 3",
   "language": "python",
   "name": "python3"
  },
  "language_info": {
   "codemirror_mode": {
    "name": "ipython",
    "version": 3
   },
   "file_extension": ".py",
   "mimetype": "text/x-python",
   "name": "python",
   "nbconvert_exporter": "python",
   "pygments_lexer": "ipython3",
   "version": "3.6.4"
  },
  "varInspector": {
   "cols": {
    "lenName": 16,
    "lenType": 16,
    "lenVar": 40
   },
   "kernels_config": {
    "python": {
     "delete_cmd_postfix": "",
     "delete_cmd_prefix": "del ",
     "library": "var_list.py",
     "varRefreshCmd": "print(var_dic_list())"
    },
    "r": {
     "delete_cmd_postfix": ") ",
     "delete_cmd_prefix": "rm(",
     "library": "var_list.r",
     "varRefreshCmd": "cat(var_dic_list()) "
    }
   },
   "types_to_exclude": [
    "module",
    "function",
    "builtin_function_or_method",
    "instance",
    "_Feature"
   ],
   "window_display": false
  }
 },
 "nbformat": 4,
 "nbformat_minor": 1
}
