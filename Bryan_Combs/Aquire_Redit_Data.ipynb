{
 "cells": [
  {
   "cell_type": "markdown",
   "metadata": {},
   "source": [
    "## Use Redit API to Aquire Study Data"
   ]
  },
  {
   "cell_type": "markdown",
   "metadata": {},
   "source": [
    "### Data from redit/democrats"
   ]
  },
  {
   "cell_type": "code",
   "execution_count": 42,
   "metadata": {},
   "outputs": [],
   "source": [
    "import requests   #importing required Dictionaries\n",
    "import pandas as pd\n",
    "import json\n",
    "import time"
   ]
  },
  {
   "cell_type": "code",
   "execution_count": 7,
   "metadata": {},
   "outputs": [],
   "source": [
    "url = 'https://www.reddit.com/r/democrats/.json'"
   ]
  },
  {
   "cell_type": "code",
   "execution_count": 10,
   "metadata": {},
   "outputs": [],
   "source": [
    "res = requests.get(url, headers = {'User-agent': 'Snakes'})"
   ]
  },
  {
   "cell_type": "code",
   "execution_count": 11,
   "metadata": {},
   "outputs": [
    {
     "data": {
      "text/plain": [
       "200"
      ]
     },
     "execution_count": 11,
     "metadata": {},
     "output_type": "execute_result"
    }
   ],
   "source": [
    "res.status_code"
   ]
  },
  {
   "cell_type": "markdown",
   "metadata": {},
   "source": [
    "### Sort out the Structure of the Redit data"
   ]
  },
  {
   "cell_type": "code",
   "execution_count": null,
   "metadata": {
    "collapsed": true
   },
   "outputs": [],
   "source": [
    "data = res.json()   #get back information as a dictionary set it equal to data"
   ]
  },
  {
   "cell_type": "code",
   "execution_count": 15,
   "metadata": {},
   "outputs": [
    {
     "data": {
      "text/plain": [
       "dict_keys(['kind', 'data'])"
      ]
     },
     "execution_count": 15,
     "metadata": {},
     "output_type": "execute_result"
    }
   ],
   "source": [
    "data.keys()"
   ]
  },
  {
   "cell_type": "code",
   "execution_count": 16,
   "metadata": {},
   "outputs": [
    {
     "data": {
      "text/plain": [
       "'Listing'"
      ]
     },
     "execution_count": 16,
     "metadata": {},
     "output_type": "execute_result"
    }
   ],
   "source": [
    "data['kind']  #kind is not important "
   ]
  },
  {
   "cell_type": "code",
   "execution_count": 18,
   "metadata": {},
   "outputs": [
    {
     "data": {
      "text/plain": [
       "dict_keys(['modhash', 'dist', 'children', 'after', 'before'])"
      ]
     },
     "execution_count": 18,
     "metadata": {},
     "output_type": "execute_result"
    }
   ],
   "source": [
    "data['data'].keys()  #interested in data and it is a dictionary with the following keys"
   ]
  },
  {
   "cell_type": "code",
   "execution_count": 24,
   "metadata": {},
   "outputs": [
    {
     "data": {
      "text/plain": [
       "''"
      ]
     },
     "execution_count": 24,
     "metadata": {},
     "output_type": "execute_result"
    }
   ],
   "source": [
    "data['data']['modhash'] # Seems to be an empty string\n",
    "\n"
   ]
  },
  {
   "cell_type": "code",
   "execution_count": 25,
   "metadata": {},
   "outputs": [
    {
     "data": {
      "text/plain": [
       "26"
      ]
     },
     "execution_count": 25,
     "metadata": {},
     "output_type": "execute_result"
    }
   ],
   "source": [
    "data['data']['dist']  #an integer 26 the length of the list"
   ]
  },
  {
   "cell_type": "code",
   "execution_count": 22,
   "metadata": {
    "scrolled": false
   },
   "outputs": [
    {
     "data": {
      "text/plain": [
       "{'data': {'approved_at_utc': None,\n",
       "  'approved_by': None,\n",
       "  'archived': False,\n",
       "  'author': 'backpackwayne',\n",
       "  'author_flair_background_color': None,\n",
       "  'author_flair_css_class': None,\n",
       "  'author_flair_richtext': [],\n",
       "  'author_flair_template_id': None,\n",
       "  'author_flair_text': None,\n",
       "  'author_flair_text_color': None,\n",
       "  'author_flair_type': 'text',\n",
       "  'author_fullname': 't2_3ci9p',\n",
       "  'banned_at_utc': None,\n",
       "  'banned_by': None,\n",
       "  'can_gild': False,\n",
       "  'can_mod_post': False,\n",
       "  'category': None,\n",
       "  'clicked': False,\n",
       "  'content_categories': None,\n",
       "  'contest_mode': False,\n",
       "  'created': 1533708499.0,\n",
       "  'created_utc': 1533679699.0,\n",
       "  'distinguished': 'moderator',\n",
       "  'domain': 'self.democrats',\n",
       "  'downs': 0,\n",
       "  'edited': False,\n",
       "  'gilded': 0,\n",
       "  'hidden': False,\n",
       "  'hide_score': False,\n",
       "  'id': '95g5w2',\n",
       "  'is_crosspostable': False,\n",
       "  'is_meta': False,\n",
       "  'is_original_content': False,\n",
       "  'is_reddit_media_domain': False,\n",
       "  'is_self': True,\n",
       "  'is_video': False,\n",
       "  'likes': None,\n",
       "  'link_flair_background_color': '',\n",
       "  'link_flair_css_class': None,\n",
       "  'link_flair_richtext': [],\n",
       "  'link_flair_template_id': None,\n",
       "  'link_flair_text': None,\n",
       "  'link_flair_text_color': 'dark',\n",
       "  'link_flair_type': 'text',\n",
       "  'locked': False,\n",
       "  'media': None,\n",
       "  'media_embed': {},\n",
       "  'media_only': False,\n",
       "  'mod_note': None,\n",
       "  'mod_reason_by': None,\n",
       "  'mod_reason_title': None,\n",
       "  'mod_reports': [],\n",
       "  'name': 't3_95g5w2',\n",
       "  'no_follow': False,\n",
       "  'num_comments': 216,\n",
       "  'num_crossposts': 0,\n",
       "  'num_reports': None,\n",
       "  'over_18': False,\n",
       "  'parent_whitelist_status': 'all_ads',\n",
       "  'permalink': '/r/democrats/comments/95g5w2/the_time_for_unity_is_now_a_progressive_and_a/',\n",
       "  'pinned': False,\n",
       "  'post_hint': 'self',\n",
       "  'preview': {'enabled': False,\n",
       "   'images': [{'id': '3gA0s7l2h_46vCMggIkZDEsknQOHXkayBFBOyYosYP4',\n",
       "     'resolutions': [{'height': 108,\n",
       "       'url': 'https://i.redditmedia.com/g39HCR3LuL3mqYN9j0VvcBQihvhMe4QGGCdSIhHg2Vg.jpg?fit=crop&amp;crop=faces%2Centropy&amp;arh=2&amp;w=108&amp;s=5e60defbf6c0001cbf3eee4e37a5fc5e',\n",
       "       'width': 108},\n",
       "      {'height': 216,\n",
       "       'url': 'https://i.redditmedia.com/g39HCR3LuL3mqYN9j0VvcBQihvhMe4QGGCdSIhHg2Vg.jpg?fit=crop&amp;crop=faces%2Centropy&amp;arh=2&amp;w=216&amp;s=32cab99a9eee206b38ce569d54430e43',\n",
       "       'width': 216}],\n",
       "     'source': {'height': 316,\n",
       "      'url': 'https://i.redditmedia.com/g39HCR3LuL3mqYN9j0VvcBQihvhMe4QGGCdSIhHg2Vg.jpg?s=654e2891b340bd840f0a15bc37d9b4b7',\n",
       "      'width': 316},\n",
       "     'variants': {}}]},\n",
       "  'pwls': 6,\n",
       "  'quarantine': False,\n",
       "  'removal_reason': None,\n",
       "  'report_reasons': None,\n",
       "  'saved': False,\n",
       "  'score': 76,\n",
       "  'secure_media': None,\n",
       "  'secure_media_embed': {},\n",
       "  'selftext': 'We are two of r/democrats more vocal members from opposite sides of the aisle. /u/Caveliertunes speaks out for Progressives and I, /u/backpackwayne, encourage the more Centrist view. We both have our arguments, and we both do our best to convince others of our position. But with exactly two months until a crucial election, we have decided to join together and urge unity, if only for a short time. \\n The following are statements are from each of us and we only ask that you listen.\\n\\n\\n-----------------\\n\\n\\n**From /u/backpackwayne:**\\n\\nThe Democratic Party has been in a struggle for control for over two years now, and this battle has taken its toll. Republicans are giddy as we are doing their job for them. Progressives and Centrists want the same things but differ on how to achieve them. But we do want the same things. Putting that aside, it is time to look at reality. If democrats do not win back the house and/or the senate in this election, we will face another two years of our democracy being shredded by an inept and callous Trump administration. They will stack the courts, take away our rights, abuse and pollute our justice system, destroy our environment, and eliminate any chance for universal healthcare for at least a decade.\\n\\nThe fight for the left should take place in the primaries. **THE PRIMARIES ARE NOW OVER!**  In the next two months we must unite and fight for the candidates that have been chosen. If we don’t, it won’t matter who controls the left. We can get back to that battle later after the election. It is imperative that we put aside our differences for the time being and stop fighting with each other. We all know who the real threat to our democracy is. So please stop this infighting and join together to achieve step one our both our goals. We need to first stop the bleeding and prevent any further damage by gaining control of at least one chamber of Congress. As a united front, there is no stopping us. Divided we face the worst threat to our democracy in yours and my lifetime.\\n\\n-----------------\\n\\n\\n**From /u/Caveliertunes:**\\n\\nUnderstandably, there are still many hurt feelings and resentment left over from 2016. We all understand. Many Progressives feel unwelcome and belittled. Many Centrists feel like they are consistently under attack. If you feel like your fellow Democrats who are of an alternative viewpoint are not respecting you, remember they likely feel the same way. Empathy is an important trait to have right now. It is something we have over the Republican Party; it is something we need to utilize—not only to defeat them but to work together. We, as a party, must be able to combine our efforts if we are to achieve any of our goals. Perhaps it is ironic that the man who said it best was a Republican himself, Abraham Lincoln: \"A house divided against itself, cannot stand.\"\\n\\nWe may not ever all completely agree, but that is what makes us great. That is what makes us strong and resilient! As many have often said: we are a \"big tent party.\" We can disagree; we can like different politicians; we can debate about the issues. However, we cannot waver: **Not now!** \\n\\n**THE PRIMARIES ARE NOW OVER.** Progressives and Centrists both had significant victories in the primaries this year, and it is becoming increasingly evident that both sides have a place in the Democratic Party. We all have a voice, and those voices are heard loud and clear. However, once the primaries end, we need to put aside any lingering resentment and work toward achieving our common goal. We\\'ve all decided that the Republican Party is dangerous! Even if we can\\'t get everything we want out of the election, we can at least achieve that shared objective.\\n\\nProgressivism is necessary to push forward toward ideals we must achieve as a nation. Centrism is essential to moderate, balance, and work pragmatically when needed, so we don\\'t fizzle out before the fight begins. We are sides of the same coin. We are all necessary for a complete and robust Democratic Party. Progressives and Centrists are both the \"base\" of the party: We need one another! Let\\'s make sure we find ourselves in a position where we can affect policy and help both the party and the country grow!\\n\\nRespect one another. Respect each other\\'s points of view and preferences. Let\\'s show a united front now and in November, and grind out our differences after the election.\\n\\n\\n---------------------\\n\\n#REGISTER TO VOTE HERE NOW!\\n\\n* https://vote.gov/\\n\\n',\n",
       "  'selftext_html': '&lt;!-- SC_OFF --&gt;&lt;div class=\"md\"&gt;&lt;p&gt;We are two of &lt;a href=\"/r/democrats\"&gt;r/democrats&lt;/a&gt; more vocal members from opposite sides of the aisle. &lt;a href=\"/u/Caveliertunes\"&gt;/u/Caveliertunes&lt;/a&gt; speaks out for Progressives and I, &lt;a href=\"/u/backpackwayne\"&gt;/u/backpackwayne&lt;/a&gt;, encourage the more Centrist view. We both have our arguments, and we both do our best to convince others of our position. But with exactly two months until a crucial election, we have decided to join together and urge unity, if only for a short time. \\n The following are statements are from each of us and we only ask that you listen.&lt;/p&gt;\\n\\n&lt;hr/&gt;\\n\\n&lt;p&gt;&lt;strong&gt;From &lt;a href=\"/u/backpackwayne\"&gt;/u/backpackwayne&lt;/a&gt;:&lt;/strong&gt;&lt;/p&gt;\\n\\n&lt;p&gt;The Democratic Party has been in a struggle for control for over two years now, and this battle has taken its toll. Republicans are giddy as we are doing their job for them. Progressives and Centrists want the same things but differ on how to achieve them. But we do want the same things. Putting that aside, it is time to look at reality. If democrats do not win back the house and/or the senate in this election, we will face another two years of our democracy being shredded by an inept and callous Trump administration. They will stack the courts, take away our rights, abuse and pollute our justice system, destroy our environment, and eliminate any chance for universal healthcare for at least a decade.&lt;/p&gt;\\n\\n&lt;p&gt;The fight for the left should take place in the primaries. &lt;strong&gt;THE PRIMARIES ARE NOW OVER!&lt;/strong&gt;  In the next two months we must unite and fight for the candidates that have been chosen. If we don’t, it won’t matter who controls the left. We can get back to that battle later after the election. It is imperative that we put aside our differences for the time being and stop fighting with each other. We all know who the real threat to our democracy is. So please stop this infighting and join together to achieve step one our both our goals. We need to first stop the bleeding and prevent any further damage by gaining control of at least one chamber of Congress. As a united front, there is no stopping us. Divided we face the worst threat to our democracy in yours and my lifetime.&lt;/p&gt;\\n\\n&lt;hr/&gt;\\n\\n&lt;p&gt;&lt;strong&gt;From &lt;a href=\"/u/Caveliertunes\"&gt;/u/Caveliertunes&lt;/a&gt;:&lt;/strong&gt;&lt;/p&gt;\\n\\n&lt;p&gt;Understandably, there are still many hurt feelings and resentment left over from 2016. We all understand. Many Progressives feel unwelcome and belittled. Many Centrists feel like they are consistently under attack. If you feel like your fellow Democrats who are of an alternative viewpoint are not respecting you, remember they likely feel the same way. Empathy is an important trait to have right now. It is something we have over the Republican Party; it is something we need to utilize—not only to defeat them but to work together. We, as a party, must be able to combine our efforts if we are to achieve any of our goals. Perhaps it is ironic that the man who said it best was a Republican himself, Abraham Lincoln: &amp;quot;A house divided against itself, cannot stand.&amp;quot;&lt;/p&gt;\\n\\n&lt;p&gt;We may not ever all completely agree, but that is what makes us great. That is what makes us strong and resilient! As many have often said: we are a &amp;quot;big tent party.&amp;quot; We can disagree; we can like different politicians; we can debate about the issues. However, we cannot waver: &lt;strong&gt;Not now!&lt;/strong&gt; &lt;/p&gt;\\n\\n&lt;p&gt;&lt;strong&gt;THE PRIMARIES ARE NOW OVER.&lt;/strong&gt; Progressives and Centrists both had significant victories in the primaries this year, and it is becoming increasingly evident that both sides have a place in the Democratic Party. We all have a voice, and those voices are heard loud and clear. However, once the primaries end, we need to put aside any lingering resentment and work toward achieving our common goal. We&amp;#39;ve all decided that the Republican Party is dangerous! Even if we can&amp;#39;t get everything we want out of the election, we can at least achieve that shared objective.&lt;/p&gt;\\n\\n&lt;p&gt;Progressivism is necessary to push forward toward ideals we must achieve as a nation. Centrism is essential to moderate, balance, and work pragmatically when needed, so we don&amp;#39;t fizzle out before the fight begins. We are sides of the same coin. We are all necessary for a complete and robust Democratic Party. Progressives and Centrists are both the &amp;quot;base&amp;quot; of the party: We need one another! Let&amp;#39;s make sure we find ourselves in a position where we can affect policy and help both the party and the country grow!&lt;/p&gt;\\n\\n&lt;p&gt;Respect one another. Respect each other&amp;#39;s points of view and preferences. Let&amp;#39;s show a united front now and in November, and grind out our differences after the election.&lt;/p&gt;\\n\\n&lt;hr/&gt;\\n\\n&lt;h1&gt;REGISTER TO VOTE HERE NOW!&lt;/h1&gt;\\n\\n&lt;ul&gt;\\n&lt;li&gt;&lt;a href=\"https://vote.gov/\"&gt;https://vote.gov/&lt;/a&gt;&lt;/li&gt;\\n&lt;/ul&gt;\\n&lt;/div&gt;&lt;!-- SC_ON --&gt;',\n",
       "  'send_replies': True,\n",
       "  'spoiler': False,\n",
       "  'stickied': True,\n",
       "  'subreddit': 'democrats',\n",
       "  'subreddit_id': 't5_2qn70',\n",
       "  'subreddit_name_prefixed': 'r/democrats',\n",
       "  'subreddit_subscribers': 66323,\n",
       "  'subreddit_type': 'public',\n",
       "  'suggested_sort': None,\n",
       "  'thumbnail': 'self',\n",
       "  'thumbnail_height': None,\n",
       "  'thumbnail_width': None,\n",
       "  'title': 'THE TIME FOR UNITY IS NOW - A Progressive and a Centrist Speak Out',\n",
       "  'ups': 76,\n",
       "  'url': 'https://www.reddit.com/r/democrats/comments/95g5w2/the_time_for_unity_is_now_a_progressive_and_a/',\n",
       "  'user_reports': [],\n",
       "  'view_count': None,\n",
       "  'visited': False,\n",
       "  'whitelist_status': 'all_ads',\n",
       "  'wls': 6},\n",
       " 'kind': 't3'}"
      ]
     },
     "execution_count": 22,
     "metadata": {},
     "output_type": "execute_result"
    }
   ],
   "source": [
    "data['data']['children'][0]   #list of objects"
   ]
  },
  {
   "cell_type": "code",
   "execution_count": 26,
   "metadata": {},
   "outputs": [
    {
     "data": {
      "text/plain": [
       "'t3_9c8q1a'"
      ]
     },
     "execution_count": 26,
     "metadata": {},
     "output_type": "execute_result"
    }
   ],
   "source": [
    "data['data']['after'] #Location string"
   ]
  },
  {
   "cell_type": "code",
   "execution_count": 28,
   "metadata": {},
   "outputs": [],
   "source": [
    "data['data']['before']  #empty right now"
   ]
  },
  {
   "cell_type": "code",
   "execution_count": 29,
   "metadata": {
    "scrolled": true
   },
   "outputs": [
    {
     "name": "stdout",
     "output_type": "stream",
     "text": [
      "26\n"
     ]
    }
   ],
   "source": [
    "print(len(data['data']['children']))"
   ]
  },
  {
   "cell_type": "code",
   "execution_count": null,
   "metadata": {},
   "outputs": [],
   "source": [
    "redit_posts = [post['data'] for post in data['data']['children']]\n",
    "\n",
    "pd.DataFrame(posts).head()"
   ]
  },
  {
   "cell_type": "markdown",
   "metadata": {},
   "source": [
    "### Set a loop to get a larger quantity of post\n",
    "\n",
    "The program can now get and understand a data request.  However more than 26 cases are needed for the analysis so a loop needs to be created to hit the API and get more posts."
   ]
  },
  {
   "cell_type": "code",
   "execution_count": 36,
   "metadata": {},
   "outputs": [],
   "source": [
    "posts = []\n",
    "after = None"
   ]
  },
  {
   "cell_type": "code",
   "execution_count": 46,
   "metadata": {},
   "outputs": [
    {
     "name": "stdout",
     "output_type": "stream",
     "text": [
      "104\n",
      "130\n",
      "156\n",
      "182\n",
      "208\n",
      "234\n",
      "260\n",
      "286\n",
      "312\n",
      "338\n",
      "364\n",
      "390\n",
      "416\n",
      "442\n",
      "468\n",
      "494\n",
      "520\n",
      "546\n",
      "572\n",
      "598\n",
      "624\n",
      "650\n",
      "676\n",
      "702\n",
      "728\n",
      "754\n",
      "780\n",
      "806\n",
      "832\n",
      "858\n"
     ]
    }
   ],
   "source": [
    "for _ in range(30):  # for loop to his reddit mulitiple times.  \n",
    "    if after == None:\n",
    "        current_url = url\n",
    "    else: \n",
    "        current_url = url + '?after' + data['data']['after']    \n",
    "    res = requests.get(current_url, headers = {'User-agent': 'Snake_2'}) \n",
    "    current_dict = res.json()\n",
    "    if res.status_code != 200:\n",
    "        print('res error ',  res.status_code)\n",
    "        break\n",
    "    else:\n",
    "        print(len(posts))\n",
    "    redit_posts = [post['data'] for post in data['data']['children']]\n",
    "    posts.extend(redit_posts)\n",
    "    after = current_dict['data']['after']\n",
    "    time.sleep(4)\n",
    "    pd.DataFrame(posts).to_csv('./data/democratic.csv', index = False)"
   ]
  },
  {
   "cell_type": "code",
   "execution_count": 47,
   "metadata": {},
   "outputs": [
    {
     "data": {
      "text/plain": [
       "884"
      ]
     },
     "execution_count": 47,
     "metadata": {},
     "output_type": "execute_result"
    }
   ],
   "source": [
    "len(posts) #884 posts in csv from redits democrats"
   ]
  },
  {
   "cell_type": "code",
   "execution_count": 34,
   "metadata": {},
   "outputs": [
    {
     "data": {
      "text/plain": [
       "'https://www.reddit.com/r/democrats/.json?aftert3_9c8q1a'"
      ]
     },
     "execution_count": 34,
     "metadata": {},
     "output_type": "execute_result"
    }
   ],
   "source": [
    "url + '?after' + data['data']['after']"
   ]
  },
  {
   "cell_type": "markdown",
   "metadata": {},
   "source": [
    "### Aquire Posts from Republican Redit \n",
    "\n",
    "The posts from the democratic reddit have been obtained and saved as a csv file.  Now republican redit posts must be acquired for the analysis"
   ]
  },
  {
   "cell_type": "code",
   "execution_count": 49,
   "metadata": {
    "focus": false,
    "id": "783fd153-28ac-47ab-bfca-27e7c1de95b4"
   },
   "outputs": [],
   "source": [
    "url = 'https://www.reddit.com/r/Conservative/.json'\n",
    "posts = []\n",
    "after = None"
   ]
  },
  {
   "cell_type": "code",
   "execution_count": 51,
   "metadata": {
    "scrolled": true
   },
   "outputs": [
    {
     "name": "stdout",
     "output_type": "stream",
     "text": [
      "884\n"
     ]
    }
   ],
   "source": [
    "#set up the same for loop for conservative posts from this subredit\n",
    "for _ in range(35):  # for loop to his reddit mulitiple times.  \n",
    "    if after == None:\n",
    "        current_url = url\n",
    "    else: \n",
    "        current_url = url + '?after' + data['data']['after']    \n",
    "    res = requests.get(current_url, headers = {'User-agent': 'Snake_2'}) \n",
    "    current_dict = res.json()\n",
    "    if res.status_code != 200:\n",
    "        print('res error ',  res.status_code)\n",
    "        break\n",
    "    else:\n",
    "        print(len(posts))\n",
    "    redit_posts = [post['data'] for post in data['data']['children']]\n",
    "    posts.extend(redit_posts)\n",
    "    after = current_dict['data']['after']\n",
    "    time.sleep(4)\n",
    "    pd.DataFrame(posts).to_csv('./data/republican.csv', index = False)\n"
   ]
  },
  {
   "cell_type": "markdown",
   "metadata": {},
   "source": [
    "Have 884 conservative posts saved to republican.csv"
   ]
  },
  {
   "cell_type": "markdown",
   "metadata": {
    "focus": false,
    "id": "db045898-1d2d-4af2-8e79-437c4c7546b4"
   },
   "source": [
    "## NLP\n",
    "\n",
    "#### Use `CountVectorizer` or `TfidfVectorizer` from scikit-learn to create features from the thread titles and descriptions (NOTE: Not all threads have a description)\n",
    "- Examine using count or binary features in the model\n",
    "- Re-evaluate your models using these. Does this improve the model performance? \n",
    "- What text features are the most valuable? "
   ]
  },
  {
   "cell_type": "code",
   "execution_count": null,
   "metadata": {
    "collapsed": true
   },
   "outputs": [],
   "source": [
    "## YOUR CODE HERE"
   ]
  },
  {
   "cell_type": "markdown",
   "metadata": {
    "focus": false,
    "id": "04563b69-f7b6-466f-9d65-fc62c9ddee6a"
   },
   "source": [
    "## Predicting subreddit using Random Forests + Another Classifier"
   ]
  },
  {
   "cell_type": "code",
   "execution_count": null,
   "metadata": {
    "collapsed": true,
    "focus": false,
    "id": "588f9845-6143-4bcc-bfd1-85d45b79303d"
   },
   "outputs": [],
   "source": [
    "## YOUR CODE HERE"
   ]
  },
  {
   "cell_type": "markdown",
   "metadata": {
    "focus": false,
    "id": "c7631f51-07f2-4c79-a093-3e9bc7849a48"
   },
   "source": [
    "#### We want to predict a binary variable - class `0` for one of your subreddits and `1` for the other."
   ]
  },
  {
   "cell_type": "code",
   "execution_count": null,
   "metadata": {
    "collapsed": true,
    "focus": false,
    "id": "c20d2498-151c-44c3-a453-3a333c79a0ac"
   },
   "outputs": [],
   "source": [
    "## YOUR CODE HERE"
   ]
  },
  {
   "cell_type": "markdown",
   "metadata": {
    "focus": false,
    "id": "a7afb2c0-d41e-4779-8216-91cd8dd4473f"
   },
   "source": [
    "#### Thought experiment: What is the baseline accuracy for this model?"
   ]
  },
  {
   "cell_type": "code",
   "execution_count": null,
   "metadata": {
    "collapsed": true,
    "focus": false,
    "id": "87a17d3d-b7f4-4747-9f75-f9af1d18a174"
   },
   "outputs": [],
   "source": [
    "## YOUR CODE HERE"
   ]
  },
  {
   "cell_type": "markdown",
   "metadata": {
    "focus": false,
    "id": "4fb29de2-5b98-474c-a4ad-5170b72b9aea"
   },
   "source": [
    "#### Create a `RandomForestClassifier` model to predict which subreddit a given post belongs to."
   ]
  },
  {
   "cell_type": "code",
   "execution_count": null,
   "metadata": {
    "collapsed": true,
    "focus": false,
    "id": "ddbc6159-6854-4ca7-857f-bfecdaf6d9c2"
   },
   "outputs": [],
   "source": [
    "## YOUR CODE HERE"
   ]
  },
  {
   "cell_type": "markdown",
   "metadata": {
    "focus": false,
    "id": "9367beff-72ba-4768-a0ba-a50b335de61d"
   },
   "source": [
    "#### Use cross-validation in scikit-learn to evaluate the model above. \n",
    "- Evaluate the accuracy of the model, as well as any other metrics you feel are appropriate. \n",
    "- **Bonus**: Use `GridSearchCV` with `Pipeline` to optimize your `CountVectorizer`/`TfidfVectorizer` and classification model."
   ]
  },
  {
   "cell_type": "code",
   "execution_count": null,
   "metadata": {
    "collapsed": true,
    "focus": false,
    "id": "269b9e7c-60b5-4a06-8255-881d7395bc1b"
   },
   "outputs": [],
   "source": [
    "## YOUR CODE HERE"
   ]
  },
  {
   "cell_type": "markdown",
   "metadata": {},
   "source": [
    "#### Repeat the model-building process using a different classifier (e.g. `MultinomialNB`, `LogisticRegression`, etc)"
   ]
  },
  {
   "cell_type": "code",
   "execution_count": null,
   "metadata": {
    "collapsed": true
   },
   "outputs": [],
   "source": [
    "## YOUR CODE HERE"
   ]
  },
  {
   "cell_type": "markdown",
   "metadata": {},
   "source": [
    "# Executive Summary\n",
    "---\n",
    "Put your executive summary in a Markdown cell below."
   ]
  },
  {
   "cell_type": "markdown",
   "metadata": {},
   "source": []
  }
 ],
 "metadata": {
  "anaconda-cloud": {},
  "kernelspec": {
   "display_name": "Python 3",
   "language": "python",
   "name": "python3"
  },
  "language_info": {
   "codemirror_mode": {
    "name": "ipython",
    "version": 3
   },
   "file_extension": ".py",
   "mimetype": "text/x-python",
   "name": "python",
   "nbconvert_exporter": "python",
   "pygments_lexer": "ipython3",
   "version": "3.6.4"
  },
  "varInspector": {
   "cols": {
    "lenName": 16,
    "lenType": 16,
    "lenVar": 40
   },
   "kernels_config": {
    "python": {
     "delete_cmd_postfix": "",
     "delete_cmd_prefix": "del ",
     "library": "var_list.py",
     "varRefreshCmd": "print(var_dic_list())"
    },
    "r": {
     "delete_cmd_postfix": ") ",
     "delete_cmd_prefix": "rm(",
     "library": "var_list.r",
     "varRefreshCmd": "cat(var_dic_list()) "
    }
   },
   "types_to_exclude": [
    "module",
    "function",
    "builtin_function_or_method",
    "instance",
    "_Feature"
   ],
   "window_display": false
  }
 },
 "nbformat": 4,
 "nbformat_minor": 1
}
