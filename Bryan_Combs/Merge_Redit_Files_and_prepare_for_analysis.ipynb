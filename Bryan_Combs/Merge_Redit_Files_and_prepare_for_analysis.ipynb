{
 "cells": [
  {
   "cell_type": "markdown",
   "metadata": {},
   "source": [
    "## Add the Target Variable\n",
    "Now that the data from r/Democrats and r/Conservative have been acquired using the API.  The target variable must be added.  The study is not trying to predict a particular group so the assignment of the values to the target variable is arbitrary.  In this case r/Democrat will be assigned 0 and the r/Conservative will be assigned 1. "
   ]
  },
  {
   "cell_type": "code",
   "execution_count": 53,
   "metadata": {},
   "outputs": [],
   "source": [
    "import pandas as pd"
   ]
  },
  {
   "cell_type": "code",
   "execution_count": 55,
   "metadata": {},
   "outputs": [],
   "source": [
    "#dems = pd.read_csv('./data/democratic.csv')\n",
    "#reps = pd.read_csv('./data/republican.csv')\n",
    "swar = pd.read_csv('./data/starwars.csv')\n",
    "strek = pd.read_csv('./data/startrek.csv')"
   ]
  },
  {
   "cell_type": "code",
   "execution_count": 14,
   "metadata": {
    "scrolled": true
   },
   "outputs": [
    {
     "data": {
      "text/html": [
       "<div>\n",
       "<style scoped>\n",
       "    .dataframe tbody tr th:only-of-type {\n",
       "        vertical-align: middle;\n",
       "    }\n",
       "\n",
       "    .dataframe tbody tr th {\n",
       "        vertical-align: top;\n",
       "    }\n",
       "\n",
       "    .dataframe thead th {\n",
       "        text-align: right;\n",
       "    }\n",
       "</style>\n",
       "<table border=\"1\" class=\"dataframe\">\n",
       "  <thead>\n",
       "    <tr style=\"text-align: right;\">\n",
       "      <th></th>\n",
       "      <th>approved_at_utc</th>\n",
       "      <th>approved_by</th>\n",
       "      <th>archived</th>\n",
       "      <th>author</th>\n",
       "      <th>author_cakeday</th>\n",
       "      <th>author_flair_background_color</th>\n",
       "      <th>author_flair_css_class</th>\n",
       "      <th>author_flair_richtext</th>\n",
       "      <th>author_flair_template_id</th>\n",
       "      <th>author_flair_text</th>\n",
       "      <th>...</th>\n",
       "      <th>thumbnail_height</th>\n",
       "      <th>thumbnail_width</th>\n",
       "      <th>title</th>\n",
       "      <th>ups</th>\n",
       "      <th>url</th>\n",
       "      <th>user_reports</th>\n",
       "      <th>view_count</th>\n",
       "      <th>visited</th>\n",
       "      <th>whitelist_status</th>\n",
       "      <th>wls</th>\n",
       "    </tr>\n",
       "  </thead>\n",
       "  <tbody>\n",
       "    <tr>\n",
       "      <th>0</th>\n",
       "      <td>NaN</td>\n",
       "      <td>NaN</td>\n",
       "      <td>False</td>\n",
       "      <td>backpackwayne</td>\n",
       "      <td>NaN</td>\n",
       "      <td>NaN</td>\n",
       "      <td>NaN</td>\n",
       "      <td>[]</td>\n",
       "      <td>NaN</td>\n",
       "      <td>NaN</td>\n",
       "      <td>...</td>\n",
       "      <td>NaN</td>\n",
       "      <td>NaN</td>\n",
       "      <td>THE TIME FOR UNITY IS NOW - A Progressive and ...</td>\n",
       "      <td>80</td>\n",
       "      <td>https://www.reddit.com/r/democrats/comments/95...</td>\n",
       "      <td>[]</td>\n",
       "      <td>NaN</td>\n",
       "      <td>False</td>\n",
       "      <td>all_ads</td>\n",
       "      <td>6</td>\n",
       "    </tr>\n",
       "  </tbody>\n",
       "</table>\n",
       "<p>1 rows × 97 columns</p>\n",
       "</div>"
      ],
      "text/plain": [
       "   approved_at_utc  approved_by  archived         author author_cakeday  \\\n",
       "0              NaN          NaN     False  backpackwayne            NaN   \n",
       "\n",
       "   author_flair_background_color  author_flair_css_class  \\\n",
       "0                            NaN                     NaN   \n",
       "\n",
       "  author_flair_richtext  author_flair_template_id  author_flair_text ...   \\\n",
       "0                    []                       NaN                NaN ...    \n",
       "\n",
       "  thumbnail_height thumbnail_width  \\\n",
       "0              NaN             NaN   \n",
       "\n",
       "                                               title  ups  \\\n",
       "0  THE TIME FOR UNITY IS NOW - A Progressive and ...   80   \n",
       "\n",
       "                                                 url  user_reports  \\\n",
       "0  https://www.reddit.com/r/democrats/comments/95...            []   \n",
       "\n",
       "   view_count  visited  whitelist_status  wls  \n",
       "0         NaN    False           all_ads    6  \n",
       "\n",
       "[1 rows x 97 columns]"
      ]
     },
     "execution_count": 14,
     "metadata": {},
     "output_type": "execute_result"
    }
   ],
   "source": [
    "dems.head(1)"
   ]
  },
  {
   "cell_type": "code",
   "execution_count": 15,
   "metadata": {},
   "outputs": [
    {
     "data": {
      "text/plain": [
       "(876, 97)"
      ]
     },
     "execution_count": 15,
     "metadata": {},
     "output_type": "execute_result"
    }
   ],
   "source": [
    "dems.shape\n"
   ]
  },
  {
   "cell_type": "code",
   "execution_count": 16,
   "metadata": {
    "scrolled": true
   },
   "outputs": [
    {
     "data": {
      "text/plain": [
       "876"
      ]
     },
     "execution_count": 16,
     "metadata": {},
     "output_type": "execute_result"
    }
   ],
   "source": [
    "len(dems.title)"
   ]
  },
  {
   "cell_type": "code",
   "execution_count": 17,
   "metadata": {
    "scrolled": true
   },
   "outputs": [
    {
     "data": {
      "text/plain": [
       "873"
      ]
     },
     "execution_count": 17,
     "metadata": {},
     "output_type": "execute_result"
    }
   ],
   "source": [
    "len(set(dems.title))  #seem to be 3 duplicate titles"
   ]
  },
  {
   "cell_type": "markdown",
   "metadata": {},
   "source": [
    "Get rid of any duplicates that might have gotten into the data"
   ]
  },
  {
   "cell_type": "code",
   "execution_count": 68,
   "metadata": {},
   "outputs": [],
   "source": [
    "dems.drop_duplicates(inplace = True)\n",
    "reps.drop_duplicates(inplace = True)\n",
    "swar.drop_duplicates(inplace = True)\n",
    "strek.drop_duplicates(inplace = True)\n"
   ]
  },
  {
   "cell_type": "code",
   "execution_count": 18,
   "metadata": {
    "scrolled": false
   },
   "outputs": [
    {
     "data": {
      "text/html": [
       "<div>\n",
       "<style scoped>\n",
       "    .dataframe tbody tr th:only-of-type {\n",
       "        vertical-align: middle;\n",
       "    }\n",
       "\n",
       "    .dataframe tbody tr th {\n",
       "        vertical-align: top;\n",
       "    }\n",
       "\n",
       "    .dataframe thead th {\n",
       "        text-align: right;\n",
       "    }\n",
       "</style>\n",
       "<table border=\"1\" class=\"dataframe\">\n",
       "  <thead>\n",
       "    <tr style=\"text-align: right;\">\n",
       "      <th></th>\n",
       "      <th>approved_at_utc</th>\n",
       "      <th>approved_by</th>\n",
       "      <th>archived</th>\n",
       "      <th>author</th>\n",
       "      <th>author_flair_background_color</th>\n",
       "      <th>author_flair_css_class</th>\n",
       "      <th>author_flair_richtext</th>\n",
       "      <th>author_flair_template_id</th>\n",
       "      <th>author_flair_text</th>\n",
       "      <th>author_flair_text_color</th>\n",
       "      <th>...</th>\n",
       "      <th>thumbnail_height</th>\n",
       "      <th>thumbnail_width</th>\n",
       "      <th>title</th>\n",
       "      <th>ups</th>\n",
       "      <th>url</th>\n",
       "      <th>user_reports</th>\n",
       "      <th>view_count</th>\n",
       "      <th>visited</th>\n",
       "      <th>whitelist_status</th>\n",
       "      <th>wls</th>\n",
       "    </tr>\n",
       "  </thead>\n",
       "  <tbody>\n",
       "    <tr>\n",
       "      <th>0</th>\n",
       "      <td>NaN</td>\n",
       "      <td>NaN</td>\n",
       "      <td>False</td>\n",
       "      <td>Yosoff</td>\n",
       "      <td>NaN</td>\n",
       "      <td>Libertarian</td>\n",
       "      <td>[{'e': 'text', 't': 'First Principles'}]</td>\n",
       "      <td>771ee808-8b38-11e1-8706-12313d096aae</td>\n",
       "      <td>First Principles</td>\n",
       "      <td>dark</td>\n",
       "      <td>...</td>\n",
       "      <td>NaN</td>\n",
       "      <td>NaN</td>\n",
       "      <td>U.S. Constitution Discussion - Week 10 of 52 (...</td>\n",
       "      <td>31</td>\n",
       "      <td>https://www.reddit.com/r/Conservative/comments...</td>\n",
       "      <td>[]</td>\n",
       "      <td>NaN</td>\n",
       "      <td>False</td>\n",
       "      <td>all_ads</td>\n",
       "      <td>6</td>\n",
       "    </tr>\n",
       "    <tr>\n",
       "      <th>1</th>\n",
       "      <td>NaN</td>\n",
       "      <td>NaN</td>\n",
       "      <td>False</td>\n",
       "      <td>thatrightwinger</td>\n",
       "      <td>NaN</td>\n",
       "      <td>Far-Right</td>\n",
       "      <td>[{'e': 'text', 't': \"Don't Tread on Me\"}]</td>\n",
       "      <td>9b86186a-8b38-11e1-8f58-12313d2c1af1</td>\n",
       "      <td>Don't Tread on Me</td>\n",
       "      <td>dark</td>\n",
       "      <td>...</td>\n",
       "      <td>81.0</td>\n",
       "      <td>140.0</td>\n",
       "      <td>Burt Reynolds: Leading Man &amp;amp; Distillation ...</td>\n",
       "      <td>18</td>\n",
       "      <td>https://www.nationalreview.com/2018/03/burt-re...</td>\n",
       "      <td>[]</td>\n",
       "      <td>NaN</td>\n",
       "      <td>False</td>\n",
       "      <td>all_ads</td>\n",
       "      <td>6</td>\n",
       "    </tr>\n",
       "    <tr>\n",
       "      <th>2</th>\n",
       "      <td>NaN</td>\n",
       "      <td>NaN</td>\n",
       "      <td>False</td>\n",
       "      <td>chabanais</td>\n",
       "      <td>NaN</td>\n",
       "      <td>Bold</td>\n",
       "      <td>[{'e': 'text', 't': 'Stronger than derp'}]</td>\n",
       "      <td>NaN</td>\n",
       "      <td>Stronger than derp</td>\n",
       "      <td>dark</td>\n",
       "      <td>...</td>\n",
       "      <td>105.0</td>\n",
       "      <td>140.0</td>\n",
       "      <td>Nike's best trick...</td>\n",
       "      <td>1997</td>\n",
       "      <td>https://i.redd.it/94w2w7ioumk11.jpg</td>\n",
       "      <td>[]</td>\n",
       "      <td>NaN</td>\n",
       "      <td>False</td>\n",
       "      <td>all_ads</td>\n",
       "      <td>6</td>\n",
       "    </tr>\n",
       "  </tbody>\n",
       "</table>\n",
       "<p>3 rows × 96 columns</p>\n",
       "</div>"
      ],
      "text/plain": [
       "   approved_at_utc  approved_by  archived           author  \\\n",
       "0              NaN          NaN     False           Yosoff   \n",
       "1              NaN          NaN     False  thatrightwinger   \n",
       "2              NaN          NaN     False        chabanais   \n",
       "\n",
       "   author_flair_background_color author_flair_css_class  \\\n",
       "0                            NaN            Libertarian   \n",
       "1                            NaN              Far-Right   \n",
       "2                            NaN                   Bold   \n",
       "\n",
       "                        author_flair_richtext  \\\n",
       "0    [{'e': 'text', 't': 'First Principles'}]   \n",
       "1   [{'e': 'text', 't': \"Don't Tread on Me\"}]   \n",
       "2  [{'e': 'text', 't': 'Stronger than derp'}]   \n",
       "\n",
       "               author_flair_template_id   author_flair_text  \\\n",
       "0  771ee808-8b38-11e1-8706-12313d096aae    First Principles   \n",
       "1  9b86186a-8b38-11e1-8f58-12313d2c1af1   Don't Tread on Me   \n",
       "2                                   NaN  Stronger than derp   \n",
       "\n",
       "  author_flair_text_color ...  thumbnail_height thumbnail_width  \\\n",
       "0                    dark ...               NaN             NaN   \n",
       "1                    dark ...              81.0           140.0   \n",
       "2                    dark ...             105.0           140.0   \n",
       "\n",
       "                                               title   ups  \\\n",
       "0  U.S. Constitution Discussion - Week 10 of 52 (...    31   \n",
       "1  Burt Reynolds: Leading Man &amp; Distillation ...    18   \n",
       "2                               Nike's best trick...  1997   \n",
       "\n",
       "                                                 url  user_reports  \\\n",
       "0  https://www.reddit.com/r/Conservative/comments...            []   \n",
       "1  https://www.nationalreview.com/2018/03/burt-re...            []   \n",
       "2                https://i.redd.it/94w2w7ioumk11.jpg            []   \n",
       "\n",
       "   view_count  visited  whitelist_status  wls  \n",
       "0         NaN    False           all_ads    6  \n",
       "1         NaN    False           all_ads    6  \n",
       "2         NaN    False           all_ads    6  \n",
       "\n",
       "[3 rows x 96 columns]"
      ]
     },
     "execution_count": 18,
     "metadata": {},
     "output_type": "execute_result"
    }
   ],
   "source": [
    "reps.head(3)"
   ]
  },
  {
   "cell_type": "code",
   "execution_count": 71,
   "metadata": {
    "scrolled": true
   },
   "outputs": [
    {
     "data": {
      "text/plain": [
       "(799, 97)"
      ]
     },
     "execution_count": 71,
     "metadata": {},
     "output_type": "execute_result"
    }
   ],
   "source": [
    "reps.shape"
   ]
  },
  {
   "cell_type": "code",
   "execution_count": 70,
   "metadata": {},
   "outputs": [
    {
     "data": {
      "text/plain": [
       "788"
      ]
     },
     "execution_count": 70,
     "metadata": {},
     "output_type": "execute_result"
    }
   ],
   "source": [
    "len(set(reps.title))"
   ]
  },
  {
   "cell_type": "code",
   "execution_count": null,
   "metadata": {},
   "outputs": [],
   "source": []
  },
  {
   "cell_type": "markdown",
   "metadata": {},
   "source": [
    "Both Political data have 96 variables.  r/democrat has 876 entries and the r/Conservative has 799 entries.  We have 11 duplicate titles for republicans and 3 for democrats.  Not sure if these are duplicate posts or different people posted same titles yet  "
   ]
  },
  {
   "cell_type": "markdown",
   "metadata": {},
   "source": [
    "### Adding target value"
   ]
  },
  {
   "cell_type": "code",
   "execution_count": 21,
   "metadata": {},
   "outputs": [
    {
     "data": {
      "text/plain": [
       "0    0\n",
       "1    0\n",
       "2    0\n",
       "3    0\n",
       "4    0\n",
       "Name: target, dtype: int64"
      ]
     },
     "execution_count": 21,
     "metadata": {},
     "output_type": "execute_result"
    }
   ],
   "source": [
    "dems['target'] = 0\n",
    "dems['target'].head()"
   ]
  },
  {
   "cell_type": "code",
   "execution_count": 61,
   "metadata": {},
   "outputs": [],
   "source": [
    "strek['target'] = 0\n",
    "swar['target'] = 1"
   ]
  },
  {
   "cell_type": "code",
   "execution_count": 22,
   "metadata": {},
   "outputs": [
    {
     "data": {
      "text/plain": [
       "0    1\n",
       "1    1\n",
       "2    1\n",
       "3    1\n",
       "4    1\n",
       "Name: target, dtype: int64"
      ]
     },
     "execution_count": 22,
     "metadata": {},
     "output_type": "execute_result"
    }
   ],
   "source": [
    "reps['target'] = 1\n",
    "reps['target'].head()"
   ]
  },
  {
   "cell_type": "markdown",
   "metadata": {},
   "source": [
    "### Merging the dataframes\n",
    "\n",
    "Each data from should now have 98 features and they can be merged together for analysis"
   ]
  },
  {
   "cell_type": "code",
   "execution_count": 23,
   "metadata": {},
   "outputs": [],
   "source": [
    "frames = [dems, reps]\n",
    "comb = pd.concat(frames, axis = 0)"
   ]
  },
  {
   "cell_type": "code",
   "execution_count": 62,
   "metadata": {},
   "outputs": [],
   "source": [
    "frames_1 = [strek, swar]\n",
    "comb_space = pd.concat(frames_1, axis = 0)"
   ]
  },
  {
   "cell_type": "code",
   "execution_count": 24,
   "metadata": {},
   "outputs": [
    {
     "data": {
      "text/plain": [
       "(1675, 98)"
      ]
     },
     "execution_count": 24,
     "metadata": {},
     "output_type": "execute_result"
    }
   ],
   "source": [
    "comb.shape"
   ]
  },
  {
   "cell_type": "markdown",
   "metadata": {},
   "source": [
    "It looks as if the data frames combined correctly.  Still have 94 features and have 1737 cases which is 861 + 876\n",
    "\n",
    "Next the excess variables will be striped and the DataFrame will be save to a csv to be read into an analysis notebook.  The vectorization will be done with the analysis, since the parameters of the vectorization will be altered to maximize both the prediction and the explanatory power of the model."
   ]
  },
  {
   "cell_type": "code",
   "execution_count": 25,
   "metadata": {},
   "outputs": [
    {
     "name": "stdout",
     "output_type": "stream",
     "text": [
      "<class 'pandas.core.frame.DataFrame'>\n",
      "Int64Index: 1675 entries, 0 to 798\n",
      "Data columns (total 98 columns):\n",
      "approved_at_utc                  0 non-null float64\n",
      "approved_by                      0 non-null float64\n",
      "archived                         1675 non-null bool\n",
      "author                           1675 non-null object\n",
      "author_cakeday                   1 non-null object\n",
      "author_flair_background_color    0 non-null float64\n",
      "author_flair_css_class           246 non-null object\n",
      "author_flair_richtext            1672 non-null object\n",
      "author_flair_template_id         157 non-null object\n",
      "author_flair_text                508 non-null object\n",
      "author_flair_text_color          511 non-null object\n",
      "author_flair_type                1672 non-null object\n",
      "author_fullname                  1672 non-null object\n",
      "banned_at_utc                    0 non-null float64\n",
      "banned_by                        0 non-null float64\n",
      "can_gild                         1675 non-null bool\n",
      "can_mod_post                     1675 non-null bool\n",
      "category                         0 non-null float64\n",
      "clicked                          1675 non-null bool\n",
      "content_categories               0 non-null float64\n",
      "contest_mode                     1675 non-null bool\n",
      "created                          1675 non-null float64\n",
      "created_utc                      1675 non-null float64\n",
      "crosspost_parent                 104 non-null object\n",
      "crosspost_parent_list            104 non-null object\n",
      "distinguished                    4 non-null object\n",
      "domain                           1675 non-null object\n",
      "downs                            1675 non-null int64\n",
      "edited                           1675 non-null object\n",
      "gilded                           1675 non-null int64\n",
      "hidden                           1675 non-null bool\n",
      "hide_score                       1675 non-null bool\n",
      "id                               1675 non-null object\n",
      "is_crosspostable                 1675 non-null bool\n",
      "is_meta                          1675 non-null bool\n",
      "is_original_content              1675 non-null bool\n",
      "is_reddit_media_domain           1675 non-null bool\n",
      "is_self                          1675 non-null bool\n",
      "is_video                         1675 non-null bool\n",
      "likes                            0 non-null float64\n",
      "link_flair_background_color      0 non-null float64\n",
      "link_flair_css_class             213 non-null object\n",
      "link_flair_richtext              1675 non-null object\n",
      "link_flair_template_id           18 non-null object\n",
      "link_flair_text                  231 non-null object\n",
      "link_flair_text_color            1675 non-null object\n",
      "link_flair_type                  1675 non-null object\n",
      "locked                           1675 non-null bool\n",
      "media                            26 non-null object\n",
      "media_embed                      1675 non-null object\n",
      "media_metadata                   0 non-null float64\n",
      "media_only                       1675 non-null bool\n",
      "mod_note                         0 non-null float64\n",
      "mod_reason_by                    0 non-null float64\n",
      "mod_reason_title                 0 non-null float64\n",
      "mod_reports                      1675 non-null object\n",
      "name                             1675 non-null object\n",
      "no_follow                        1675 non-null bool\n",
      "num_comments                     1675 non-null int64\n",
      "num_crossposts                   1675 non-null int64\n",
      "num_reports                      0 non-null float64\n",
      "over_18                          1675 non-null bool\n",
      "parent_whitelist_status          1675 non-null object\n",
      "permalink                        1675 non-null object\n",
      "pinned                           1675 non-null bool\n",
      "post_hint                        1552 non-null object\n",
      "preview                          1552 non-null object\n",
      "pwls                             1675 non-null int64\n",
      "quarantine                       1675 non-null bool\n",
      "removal_reason                   0 non-null float64\n",
      "report_reasons                   0 non-null float64\n",
      "saved                            1675 non-null bool\n",
      "score                            1675 non-null int64\n",
      "secure_media                     26 non-null object\n",
      "secure_media_embed               1675 non-null object\n",
      "selftext                         80 non-null object\n",
      "selftext_html                    80 non-null object\n",
      "send_replies                     1675 non-null bool\n",
      "spoiler                          1675 non-null bool\n",
      "stickied                         1675 non-null bool\n",
      "subreddit                        1675 non-null object\n",
      "subreddit_id                     1675 non-null object\n",
      "subreddit_name_prefixed          1675 non-null object\n",
      "subreddit_subscribers            1675 non-null int64\n",
      "subreddit_type                   1675 non-null object\n",
      "suggested_sort                   1 non-null object\n",
      "target                           1675 non-null int64\n",
      "thumbnail                        1675 non-null object\n",
      "thumbnail_height                 1544 non-null float64\n",
      "thumbnail_width                  1544 non-null float64\n",
      "title                            1675 non-null object\n",
      "ups                              1675 non-null int64\n",
      "url                              1675 non-null object\n",
      "user_reports                     1675 non-null object\n",
      "view_count                       0 non-null float64\n",
      "visited                          1675 non-null bool\n",
      "whitelist_status                 1675 non-null object\n",
      "wls                              1675 non-null int64\n",
      "dtypes: bool(24), float64(21), int64(10), object(43)\n",
      "memory usage: 1020.7+ KB\n"
     ]
    }
   ],
   "source": [
    "comb.info()"
   ]
  },
  {
   "cell_type": "code",
   "execution_count": 26,
   "metadata": {},
   "outputs": [],
   "source": [
    "#drop columns where all of the data is missing will eliminate 18 columns from the dataframe\n",
    "comb = comb.dropna(axis = 1, how = \"all\")\n"
   ]
  },
  {
   "cell_type": "code",
   "execution_count": 27,
   "metadata": {
    "scrolled": true
   },
   "outputs": [
    {
     "name": "stdout",
     "output_type": "stream",
     "text": [
      "<class 'pandas.core.frame.DataFrame'>\n",
      "Int64Index: 1675 entries, 0 to 798\n",
      "Data columns (total 81 columns):\n",
      "archived                    1675 non-null bool\n",
      "author                      1675 non-null object\n",
      "author_cakeday              1 non-null object\n",
      "author_flair_css_class      246 non-null object\n",
      "author_flair_richtext       1672 non-null object\n",
      "author_flair_template_id    157 non-null object\n",
      "author_flair_text           508 non-null object\n",
      "author_flair_text_color     511 non-null object\n",
      "author_flair_type           1672 non-null object\n",
      "author_fullname             1672 non-null object\n",
      "can_gild                    1675 non-null bool\n",
      "can_mod_post                1675 non-null bool\n",
      "clicked                     1675 non-null bool\n",
      "contest_mode                1675 non-null bool\n",
      "created                     1675 non-null float64\n",
      "created_utc                 1675 non-null float64\n",
      "crosspost_parent            104 non-null object\n",
      "crosspost_parent_list       104 non-null object\n",
      "distinguished               4 non-null object\n",
      "domain                      1675 non-null object\n",
      "downs                       1675 non-null int64\n",
      "edited                      1675 non-null object\n",
      "gilded                      1675 non-null int64\n",
      "hidden                      1675 non-null bool\n",
      "hide_score                  1675 non-null bool\n",
      "id                          1675 non-null object\n",
      "is_crosspostable            1675 non-null bool\n",
      "is_meta                     1675 non-null bool\n",
      "is_original_content         1675 non-null bool\n",
      "is_reddit_media_domain      1675 non-null bool\n",
      "is_self                     1675 non-null bool\n",
      "is_video                    1675 non-null bool\n",
      "link_flair_css_class        213 non-null object\n",
      "link_flair_richtext         1675 non-null object\n",
      "link_flair_template_id      18 non-null object\n",
      "link_flair_text             231 non-null object\n",
      "link_flair_text_color       1675 non-null object\n",
      "link_flair_type             1675 non-null object\n",
      "locked                      1675 non-null bool\n",
      "media                       26 non-null object\n",
      "media_embed                 1675 non-null object\n",
      "media_only                  1675 non-null bool\n",
      "mod_reports                 1675 non-null object\n",
      "name                        1675 non-null object\n",
      "no_follow                   1675 non-null bool\n",
      "num_comments                1675 non-null int64\n",
      "num_crossposts              1675 non-null int64\n",
      "over_18                     1675 non-null bool\n",
      "parent_whitelist_status     1675 non-null object\n",
      "permalink                   1675 non-null object\n",
      "pinned                      1675 non-null bool\n",
      "post_hint                   1552 non-null object\n",
      "preview                     1552 non-null object\n",
      "pwls                        1675 non-null int64\n",
      "quarantine                  1675 non-null bool\n",
      "saved                       1675 non-null bool\n",
      "score                       1675 non-null int64\n",
      "secure_media                26 non-null object\n",
      "secure_media_embed          1675 non-null object\n",
      "selftext                    80 non-null object\n",
      "selftext_html               80 non-null object\n",
      "send_replies                1675 non-null bool\n",
      "spoiler                     1675 non-null bool\n",
      "stickied                    1675 non-null bool\n",
      "subreddit                   1675 non-null object\n",
      "subreddit_id                1675 non-null object\n",
      "subreddit_name_prefixed     1675 non-null object\n",
      "subreddit_subscribers       1675 non-null int64\n",
      "subreddit_type              1675 non-null object\n",
      "suggested_sort              1 non-null object\n",
      "target                      1675 non-null int64\n",
      "thumbnail                   1675 non-null object\n",
      "thumbnail_height            1544 non-null float64\n",
      "thumbnail_width             1544 non-null float64\n",
      "title                       1675 non-null object\n",
      "ups                         1675 non-null int64\n",
      "url                         1675 non-null object\n",
      "user_reports                1675 non-null object\n",
      "visited                     1675 non-null bool\n",
      "whitelist_status            1675 non-null object\n",
      "wls                         1675 non-null int64\n",
      "dtypes: bool(24), float64(4), int64(10), object(43)\n",
      "memory usage: 798.2+ KB\n"
     ]
    }
   ],
   "source": [
    "comb.info()"
   ]
  },
  {
   "cell_type": "markdown",
   "metadata": {},
   "source": [
    "Only real text seems to be in the title and self text features.  The features will be combined to create one vector of text data for the count vectorization process"
   ]
  },
  {
   "cell_type": "code",
   "execution_count": 47,
   "metadata": {},
   "outputs": [],
   "source": [
    "comb['selftext'].fillna(\"\", inplace = True)\n",
    "    \n",
    "comb['text']  = comb['title'] + comb['selftext']\n",
    "\n"
   ]
  },
  {
   "cell_type": "code",
   "execution_count": 63,
   "metadata": {},
   "outputs": [],
   "source": [
    "comb_space['selftext'].fillna(\"\", inplace = True)\n",
    "comb_space['text'] = comb_space['title'] + comb_space['selftext']"
   ]
  },
  {
   "cell_type": "code",
   "execution_count": 48,
   "metadata": {},
   "outputs": [
    {
     "name": "stdout",
     "output_type": "stream",
     "text": [
      "<class 'pandas.core.frame.DataFrame'>\n",
      "Int64Index: 1675 entries, 0 to 798\n",
      "Data columns (total 82 columns):\n",
      "archived                    1675 non-null bool\n",
      "author                      1675 non-null object\n",
      "author_cakeday              1 non-null object\n",
      "author_flair_css_class      246 non-null object\n",
      "author_flair_richtext       1672 non-null object\n",
      "author_flair_template_id    157 non-null object\n",
      "author_flair_text           508 non-null object\n",
      "author_flair_text_color     511 non-null object\n",
      "author_flair_type           1672 non-null object\n",
      "author_fullname             1672 non-null object\n",
      "can_gild                    1675 non-null bool\n",
      "can_mod_post                1675 non-null bool\n",
      "clicked                     1675 non-null bool\n",
      "contest_mode                1675 non-null bool\n",
      "created                     1675 non-null float64\n",
      "created_utc                 1675 non-null float64\n",
      "crosspost_parent            104 non-null object\n",
      "crosspost_parent_list       104 non-null object\n",
      "distinguished               4 non-null object\n",
      "domain                      1675 non-null object\n",
      "downs                       1675 non-null int64\n",
      "edited                      1675 non-null object\n",
      "gilded                      1675 non-null int64\n",
      "hidden                      1675 non-null bool\n",
      "hide_score                  1675 non-null bool\n",
      "id                          1675 non-null object\n",
      "is_crosspostable            1675 non-null bool\n",
      "is_meta                     1675 non-null bool\n",
      "is_original_content         1675 non-null bool\n",
      "is_reddit_media_domain      1675 non-null bool\n",
      "is_self                     1675 non-null bool\n",
      "is_video                    1675 non-null bool\n",
      "link_flair_css_class        213 non-null object\n",
      "link_flair_richtext         1675 non-null object\n",
      "link_flair_template_id      18 non-null object\n",
      "link_flair_text             231 non-null object\n",
      "link_flair_text_color       1675 non-null object\n",
      "link_flair_type             1675 non-null object\n",
      "locked                      1675 non-null bool\n",
      "media                       26 non-null object\n",
      "media_embed                 1675 non-null object\n",
      "media_only                  1675 non-null bool\n",
      "mod_reports                 1675 non-null object\n",
      "name                        1675 non-null object\n",
      "no_follow                   1675 non-null bool\n",
      "num_comments                1675 non-null int64\n",
      "num_crossposts              1675 non-null int64\n",
      "over_18                     1675 non-null bool\n",
      "parent_whitelist_status     1675 non-null object\n",
      "permalink                   1675 non-null object\n",
      "pinned                      1675 non-null bool\n",
      "post_hint                   1552 non-null object\n",
      "preview                     1552 non-null object\n",
      "pwls                        1675 non-null int64\n",
      "quarantine                  1675 non-null bool\n",
      "saved                       1675 non-null bool\n",
      "score                       1675 non-null int64\n",
      "secure_media                26 non-null object\n",
      "secure_media_embed          1675 non-null object\n",
      "selftext                    1675 non-null object\n",
      "selftext_html               80 non-null object\n",
      "send_replies                1675 non-null bool\n",
      "spoiler                     1675 non-null bool\n",
      "stickied                    1675 non-null bool\n",
      "subreddit                   1675 non-null object\n",
      "subreddit_id                1675 non-null object\n",
      "subreddit_name_prefixed     1675 non-null object\n",
      "subreddit_subscribers       1675 non-null int64\n",
      "subreddit_type              1675 non-null object\n",
      "suggested_sort              1 non-null object\n",
      "target                      1675 non-null int64\n",
      "thumbnail                   1675 non-null object\n",
      "thumbnail_height            1544 non-null float64\n",
      "thumbnail_width             1544 non-null float64\n",
      "title                       1675 non-null object\n",
      "ups                         1675 non-null int64\n",
      "url                         1675 non-null object\n",
      "user_reports                1675 non-null object\n",
      "visited                     1675 non-null bool\n",
      "whitelist_status            1675 non-null object\n",
      "wls                         1675 non-null int64\n",
      "text                        1675 non-null object\n",
      "dtypes: bool(24), float64(4), int64(10), object(44)\n",
      "memory usage: 851.3+ KB\n"
     ]
    }
   ],
   "source": [
    "comb.info()\n",
    "\n"
   ]
  },
  {
   "cell_type": "markdown",
   "metadata": {},
   "source": [
    "### Search for Features to be included in analaysis"
   ]
  },
  {
   "cell_type": "code",
   "execution_count": 49,
   "metadata": {},
   "outputs": [
    {
     "data": {
      "text/plain": [
       "0    THE TIME FOR UNITY IS NOW - A Progressive and ...\n",
       "1    Nation Stunned That There Is Someone in White ...\n",
       "2             Alex Jones Permanently Banned By Twitter\n",
       "3    It's About Time Senate Democrats Showed Some D...\n",
       "Name: text, dtype: object"
      ]
     },
     "execution_count": 49,
     "metadata": {},
     "output_type": "execute_result"
    }
   ],
   "source": [
    "comb.text.head(4)"
   ]
  },
  {
   "cell_type": "markdown",
   "metadata": {},
   "source": [
    "The title will contain information that will be helpful in sorting out issues and words that identify Democratic posts v. Conservative posts"
   ]
  },
  {
   "cell_type": "code",
   "execution_count": 50,
   "metadata": {},
   "outputs": [],
   "source": [
    "features = ['text', 'target']\n",
    "test_data = comb[features]"
   ]
  },
  {
   "cell_type": "code",
   "execution_count": 64,
   "metadata": {},
   "outputs": [],
   "source": [
    "features_1 = ['text', 'target']\n",
    "space_data = comb_space[features_1]"
   ]
  },
  {
   "cell_type": "code",
   "execution_count": 51,
   "metadata": {},
   "outputs": [],
   "source": [
    "test_data.to_csv('./data/combined_data.csv', index = False)"
   ]
  },
  {
   "cell_type": "code",
   "execution_count": 65,
   "metadata": {},
   "outputs": [],
   "source": [
    "space_data.to_csv('./data/space_data.csv', index = False)"
   ]
  },
  {
   "cell_type": "code",
   "execution_count": null,
   "metadata": {},
   "outputs": [],
   "source": []
  }
 ],
 "metadata": {
  "kernelspec": {
   "display_name": "Python 3",
   "language": "python",
   "name": "python3"
  },
  "language_info": {
   "codemirror_mode": {
    "name": "ipython",
    "version": 3
   },
   "file_extension": ".py",
   "mimetype": "text/x-python",
   "name": "python",
   "nbconvert_exporter": "python",
   "pygments_lexer": "ipython3",
   "version": "3.6.4"
  }
 },
 "nbformat": 4,
 "nbformat_minor": 2
}
