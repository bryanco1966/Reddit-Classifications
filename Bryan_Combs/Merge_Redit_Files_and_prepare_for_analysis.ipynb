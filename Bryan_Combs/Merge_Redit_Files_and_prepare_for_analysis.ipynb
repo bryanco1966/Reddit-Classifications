{
 "cells": [
  {
   "cell_type": "markdown",
   "metadata": {},
   "source": [
    "## Add the Target Variable\n",
    "Now that the data from r/Democrats and r/Conservative have been acquired using the API.  The target variable must be added.  The study is not trying to predict a particular group so the assignment of the values to the target variable is arbitrary.  In this case r/Democrat will be assigned 0 and the r/Conservative will be assigned 1. "
   ]
  },
  {
   "cell_type": "code",
   "execution_count": 73,
   "metadata": {},
   "outputs": [],
   "source": [
    "import pandas as pd"
   ]
  },
  {
   "cell_type": "code",
   "execution_count": 74,
   "metadata": {},
   "outputs": [],
   "source": [
    "dems = pd.read_csv('./data/democratic.csv')\n",
    "reps = pd.read_csv('./data/republican.csv')\n"
   ]
  },
  {
   "cell_type": "code",
   "execution_count": 75,
   "metadata": {
    "scrolled": true
   },
   "outputs": [
    {
     "data": {
      "text/html": [
       "<div>\n",
       "<style scoped>\n",
       "    .dataframe tbody tr th:only-of-type {\n",
       "        vertical-align: middle;\n",
       "    }\n",
       "\n",
       "    .dataframe tbody tr th {\n",
       "        vertical-align: top;\n",
       "    }\n",
       "\n",
       "    .dataframe thead th {\n",
       "        text-align: right;\n",
       "    }\n",
       "</style>\n",
       "<table border=\"1\" class=\"dataframe\">\n",
       "  <thead>\n",
       "    <tr style=\"text-align: right;\">\n",
       "      <th></th>\n",
       "      <th>approved_at_utc</th>\n",
       "      <th>approved_by</th>\n",
       "      <th>archived</th>\n",
       "      <th>author</th>\n",
       "      <th>author_cakeday</th>\n",
       "      <th>author_flair_background_color</th>\n",
       "      <th>author_flair_css_class</th>\n",
       "      <th>author_flair_richtext</th>\n",
       "      <th>author_flair_template_id</th>\n",
       "      <th>author_flair_text</th>\n",
       "      <th>...</th>\n",
       "      <th>thumbnail_height</th>\n",
       "      <th>thumbnail_width</th>\n",
       "      <th>title</th>\n",
       "      <th>ups</th>\n",
       "      <th>url</th>\n",
       "      <th>user_reports</th>\n",
       "      <th>view_count</th>\n",
       "      <th>visited</th>\n",
       "      <th>whitelist_status</th>\n",
       "      <th>wls</th>\n",
       "    </tr>\n",
       "  </thead>\n",
       "  <tbody>\n",
       "    <tr>\n",
       "      <th>0</th>\n",
       "      <td>NaN</td>\n",
       "      <td>NaN</td>\n",
       "      <td>False</td>\n",
       "      <td>backpackwayne</td>\n",
       "      <td>NaN</td>\n",
       "      <td>NaN</td>\n",
       "      <td>NaN</td>\n",
       "      <td>[]</td>\n",
       "      <td>NaN</td>\n",
       "      <td>NaN</td>\n",
       "      <td>...</td>\n",
       "      <td>NaN</td>\n",
       "      <td>NaN</td>\n",
       "      <td>THE TIME FOR UNITY IS NOW - A Progressive and ...</td>\n",
       "      <td>79</td>\n",
       "      <td>https://www.reddit.com/r/democrats/comments/95...</td>\n",
       "      <td>[]</td>\n",
       "      <td>NaN</td>\n",
       "      <td>False</td>\n",
       "      <td>all_ads</td>\n",
       "      <td>6</td>\n",
       "    </tr>\n",
       "  </tbody>\n",
       "</table>\n",
       "<p>1 rows × 97 columns</p>\n",
       "</div>"
      ],
      "text/plain": [
       "   approved_at_utc  approved_by  archived         author author_cakeday  \\\n",
       "0              NaN          NaN     False  backpackwayne            NaN   \n",
       "\n",
       "   author_flair_background_color  author_flair_css_class  \\\n",
       "0                            NaN                     NaN   \n",
       "\n",
       "  author_flair_richtext  author_flair_template_id  author_flair_text ...   \\\n",
       "0                    []                       NaN                NaN ...    \n",
       "\n",
       "  thumbnail_height thumbnail_width  \\\n",
       "0              NaN             NaN   \n",
       "\n",
       "                                               title  ups  \\\n",
       "0  THE TIME FOR UNITY IS NOW - A Progressive and ...   79   \n",
       "\n",
       "                                                 url  user_reports  \\\n",
       "0  https://www.reddit.com/r/democrats/comments/95...            []   \n",
       "\n",
       "   view_count  visited  whitelist_status  wls  \n",
       "0         NaN    False           all_ads    6  \n",
       "\n",
       "[1 rows x 97 columns]"
      ]
     },
     "execution_count": 75,
     "metadata": {},
     "output_type": "execute_result"
    }
   ],
   "source": [
    "dems.head(1)"
   ]
  },
  {
   "cell_type": "code",
   "execution_count": 76,
   "metadata": {},
   "outputs": [
    {
     "data": {
      "text/plain": [
       "(876, 97)"
      ]
     },
     "execution_count": 76,
     "metadata": {},
     "output_type": "execute_result"
    }
   ],
   "source": [
    "dems.shape\n"
   ]
  },
  {
   "cell_type": "code",
   "execution_count": 77,
   "metadata": {
    "scrolled": false
   },
   "outputs": [
    {
     "data": {
      "text/html": [
       "<div>\n",
       "<style scoped>\n",
       "    .dataframe tbody tr th:only-of-type {\n",
       "        vertical-align: middle;\n",
       "    }\n",
       "\n",
       "    .dataframe tbody tr th {\n",
       "        vertical-align: top;\n",
       "    }\n",
       "\n",
       "    .dataframe thead th {\n",
       "        text-align: right;\n",
       "    }\n",
       "</style>\n",
       "<table border=\"1\" class=\"dataframe\">\n",
       "  <thead>\n",
       "    <tr style=\"text-align: right;\">\n",
       "      <th></th>\n",
       "      <th>approved_at_utc</th>\n",
       "      <th>approved_by</th>\n",
       "      <th>archived</th>\n",
       "      <th>author</th>\n",
       "      <th>author_cakeday</th>\n",
       "      <th>author_flair_background_color</th>\n",
       "      <th>author_flair_css_class</th>\n",
       "      <th>author_flair_richtext</th>\n",
       "      <th>author_flair_template_id</th>\n",
       "      <th>author_flair_text</th>\n",
       "      <th>...</th>\n",
       "      <th>thumbnail_height</th>\n",
       "      <th>thumbnail_width</th>\n",
       "      <th>title</th>\n",
       "      <th>ups</th>\n",
       "      <th>url</th>\n",
       "      <th>user_reports</th>\n",
       "      <th>view_count</th>\n",
       "      <th>visited</th>\n",
       "      <th>whitelist_status</th>\n",
       "      <th>wls</th>\n",
       "    </tr>\n",
       "  </thead>\n",
       "  <tbody>\n",
       "    <tr>\n",
       "      <th>0</th>\n",
       "      <td>NaN</td>\n",
       "      <td>NaN</td>\n",
       "      <td>False</td>\n",
       "      <td>tehForce</td>\n",
       "      <td>NaN</td>\n",
       "      <td>NaN</td>\n",
       "      <td>NaN</td>\n",
       "      <td>[{'e': 'text', 't': 'Liberal Education != Purp...</td>\n",
       "      <td>NaN</td>\n",
       "      <td>Liberal Education != Purple Hair</td>\n",
       "      <td>...</td>\n",
       "      <td>NaN</td>\n",
       "      <td>NaN</td>\n",
       "      <td>Michael Oakeshott - this week's sidebar tribute</td>\n",
       "      <td>41</td>\n",
       "      <td>https://www.reddit.com/r/Conservative/comments...</td>\n",
       "      <td>[]</td>\n",
       "      <td>NaN</td>\n",
       "      <td>False</td>\n",
       "      <td>all_ads</td>\n",
       "      <td>6</td>\n",
       "    </tr>\n",
       "    <tr>\n",
       "      <th>1</th>\n",
       "      <td>NaN</td>\n",
       "      <td>NaN</td>\n",
       "      <td>False</td>\n",
       "      <td>thatrightwinger</td>\n",
       "      <td>NaN</td>\n",
       "      <td>NaN</td>\n",
       "      <td>Far-Right</td>\n",
       "      <td>[{'e': 'text', 't': \"Don't Tread on Me\"}]</td>\n",
       "      <td>9b86186a-8b38-11e1-8f58-12313d2c1af1</td>\n",
       "      <td>Don't Tread on Me</td>\n",
       "      <td>...</td>\n",
       "      <td>105.0</td>\n",
       "      <td>140.0</td>\n",
       "      <td>Watch Live: Judge Brett Kavanaugh's confirmati...</td>\n",
       "      <td>91</td>\n",
       "      <td>https://www.youtube.com/watch?v=h8il9dAhA00</td>\n",
       "      <td>[]</td>\n",
       "      <td>NaN</td>\n",
       "      <td>False</td>\n",
       "      <td>all_ads</td>\n",
       "      <td>6</td>\n",
       "    </tr>\n",
       "    <tr>\n",
       "      <th>2</th>\n",
       "      <td>NaN</td>\n",
       "      <td>NaN</td>\n",
       "      <td>False</td>\n",
       "      <td>chabanais</td>\n",
       "      <td>NaN</td>\n",
       "      <td>NaN</td>\n",
       "      <td>Bold</td>\n",
       "      <td>[{'e': 'text', 't': 'Stronger than derp'}]</td>\n",
       "      <td>NaN</td>\n",
       "      <td>Stronger than derp</td>\n",
       "      <td>...</td>\n",
       "      <td>140.0</td>\n",
       "      <td>140.0</td>\n",
       "      <td>Ben Shapiro lays them away...</td>\n",
       "      <td>1426</td>\n",
       "      <td>https://i.redd.it/i3xkb1sgb8k11.jpg</td>\n",
       "      <td>[]</td>\n",
       "      <td>NaN</td>\n",
       "      <td>False</td>\n",
       "      <td>all_ads</td>\n",
       "      <td>6</td>\n",
       "    </tr>\n",
       "  </tbody>\n",
       "</table>\n",
       "<p>3 rows × 97 columns</p>\n",
       "</div>"
      ],
      "text/plain": [
       "   approved_at_utc  approved_by  archived           author author_cakeday  \\\n",
       "0              NaN          NaN     False         tehForce            NaN   \n",
       "1              NaN          NaN     False  thatrightwinger            NaN   \n",
       "2              NaN          NaN     False        chabanais            NaN   \n",
       "\n",
       "   author_flair_background_color author_flair_css_class  \\\n",
       "0                            NaN                    NaN   \n",
       "1                            NaN              Far-Right   \n",
       "2                            NaN                   Bold   \n",
       "\n",
       "                               author_flair_richtext  \\\n",
       "0  [{'e': 'text', 't': 'Liberal Education != Purp...   \n",
       "1          [{'e': 'text', 't': \"Don't Tread on Me\"}]   \n",
       "2         [{'e': 'text', 't': 'Stronger than derp'}]   \n",
       "\n",
       "               author_flair_template_id                 author_flair_text  \\\n",
       "0                                   NaN  Liberal Education != Purple Hair   \n",
       "1  9b86186a-8b38-11e1-8f58-12313d2c1af1                 Don't Tread on Me   \n",
       "2                                   NaN                Stronger than derp   \n",
       "\n",
       "  ...  thumbnail_height thumbnail_width  \\\n",
       "0 ...               NaN             NaN   \n",
       "1 ...             105.0           140.0   \n",
       "2 ...             140.0           140.0   \n",
       "\n",
       "                                               title   ups  \\\n",
       "0    Michael Oakeshott - this week's sidebar tribute    41   \n",
       "1  Watch Live: Judge Brett Kavanaugh's confirmati...    91   \n",
       "2                      Ben Shapiro lays them away...  1426   \n",
       "\n",
       "                                                 url  user_reports  \\\n",
       "0  https://www.reddit.com/r/Conservative/comments...            []   \n",
       "1        https://www.youtube.com/watch?v=h8il9dAhA00            []   \n",
       "2                https://i.redd.it/i3xkb1sgb8k11.jpg            []   \n",
       "\n",
       "   view_count  visited  whitelist_status  wls  \n",
       "0         NaN    False           all_ads    6  \n",
       "1         NaN    False           all_ads    6  \n",
       "2         NaN    False           all_ads    6  \n",
       "\n",
       "[3 rows x 97 columns]"
      ]
     },
     "execution_count": 77,
     "metadata": {},
     "output_type": "execute_result"
    }
   ],
   "source": [
    "reps.head(3)"
   ]
  },
  {
   "cell_type": "code",
   "execution_count": 78,
   "metadata": {},
   "outputs": [
    {
     "data": {
      "text/plain": [
       "(861, 97)"
      ]
     },
     "execution_count": 78,
     "metadata": {},
     "output_type": "execute_result"
    }
   ],
   "source": [
    "reps.shape"
   ]
  },
  {
   "cell_type": "markdown",
   "metadata": {},
   "source": [
    "Both data sets have 97 variables.  r/democrat has 876 entries and the r/Conservative has 861 entries.  "
   ]
  },
  {
   "cell_type": "markdown",
   "metadata": {},
   "source": [
    "### Adding target value"
   ]
  },
  {
   "cell_type": "code",
   "execution_count": 79,
   "metadata": {},
   "outputs": [
    {
     "data": {
      "text/plain": [
       "0    0\n",
       "1    0\n",
       "2    0\n",
       "3    0\n",
       "4    0\n",
       "Name: target, dtype: int64"
      ]
     },
     "execution_count": 79,
     "metadata": {},
     "output_type": "execute_result"
    }
   ],
   "source": [
    "dems['target'] = 0\n",
    "dems['target'].head()"
   ]
  },
  {
   "cell_type": "code",
   "execution_count": 80,
   "metadata": {},
   "outputs": [
    {
     "data": {
      "text/plain": [
       "0    1\n",
       "1    1\n",
       "2    1\n",
       "3    1\n",
       "4    1\n",
       "Name: target, dtype: int64"
      ]
     },
     "execution_count": 80,
     "metadata": {},
     "output_type": "execute_result"
    }
   ],
   "source": [
    "reps['target'] = 1\n",
    "reps['target'].head()"
   ]
  },
  {
   "cell_type": "markdown",
   "metadata": {},
   "source": [
    "### Merging the dataframes\n",
    "\n",
    "Each data from should now have 98 features and they can be merged together for analysis"
   ]
  },
  {
   "cell_type": "code",
   "execution_count": 81,
   "metadata": {},
   "outputs": [],
   "source": [
    "frames = [dems, reps]\n",
    "comb = pd.concat(frames, axis = 0)"
   ]
  },
  {
   "cell_type": "code",
   "execution_count": 82,
   "metadata": {},
   "outputs": [
    {
     "data": {
      "text/plain": [
       "(1737, 98)"
      ]
     },
     "execution_count": 82,
     "metadata": {},
     "output_type": "execute_result"
    }
   ],
   "source": [
    "comb.shape"
   ]
  },
  {
   "cell_type": "markdown",
   "metadata": {},
   "source": [
    "It looks as if the data frames combined correctly.  Still have 94 features and have 1737 cases which is 861 + 876\n",
    "\n",
    "Next the excess variables will be striped and the DataFrame will be save to a csv to be read into an analysis notebook.  The vectorization will be done with the analysis, since the parameters of the vectorization will be altered to maximize both the prediction and the explanatory power of the model."
   ]
  },
  {
   "cell_type": "code",
   "execution_count": 83,
   "metadata": {},
   "outputs": [
    {
     "name": "stdout",
     "output_type": "stream",
     "text": [
      "<class 'pandas.core.frame.DataFrame'>\n",
      "Int64Index: 1737 entries, 0 to 860\n",
      "Data columns (total 98 columns):\n",
      "approved_at_utc                  0 non-null float64\n",
      "approved_by                      0 non-null float64\n",
      "archived                         1737 non-null bool\n",
      "author                           1737 non-null object\n",
      "author_cakeday                   2 non-null object\n",
      "author_flair_background_color    0 non-null float64\n",
      "author_flair_css_class           261 non-null object\n",
      "author_flair_richtext            1735 non-null object\n",
      "author_flair_template_id         175 non-null object\n",
      "author_flair_text                552 non-null object\n",
      "author_flair_text_color          554 non-null object\n",
      "author_flair_type                1735 non-null object\n",
      "author_fullname                  1735 non-null object\n",
      "banned_at_utc                    0 non-null float64\n",
      "banned_by                        0 non-null float64\n",
      "can_gild                         1737 non-null bool\n",
      "can_mod_post                     1737 non-null bool\n",
      "category                         0 non-null float64\n",
      "clicked                          1737 non-null bool\n",
      "content_categories               0 non-null float64\n",
      "contest_mode                     1737 non-null bool\n",
      "created                          1737 non-null float64\n",
      "created_utc                      1737 non-null float64\n",
      "crosspost_parent                 97 non-null object\n",
      "crosspost_parent_list            97 non-null object\n",
      "distinguished                    5 non-null object\n",
      "domain                           1737 non-null object\n",
      "downs                            1737 non-null int64\n",
      "edited                           1737 non-null object\n",
      "gilded                           1737 non-null int64\n",
      "hidden                           1737 non-null bool\n",
      "hide_score                       1737 non-null bool\n",
      "id                               1737 non-null object\n",
      "is_crosspostable                 1737 non-null bool\n",
      "is_meta                          1737 non-null bool\n",
      "is_original_content              1737 non-null bool\n",
      "is_reddit_media_domain           1737 non-null bool\n",
      "is_self                          1737 non-null bool\n",
      "is_video                         1737 non-null bool\n",
      "likes                            0 non-null float64\n",
      "link_flair_background_color      0 non-null float64\n",
      "link_flair_css_class             212 non-null object\n",
      "link_flair_richtext              1737 non-null object\n",
      "link_flair_template_id           17 non-null object\n",
      "link_flair_text                  232 non-null object\n",
      "link_flair_text_color            1737 non-null object\n",
      "link_flair_type                  1737 non-null object\n",
      "locked                           1737 non-null bool\n",
      "media                            29 non-null object\n",
      "media_embed                      1737 non-null object\n",
      "media_metadata                   0 non-null float64\n",
      "media_only                       1737 non-null bool\n",
      "mod_note                         0 non-null float64\n",
      "mod_reason_by                    0 non-null float64\n",
      "mod_reason_title                 0 non-null float64\n",
      "mod_reports                      1737 non-null object\n",
      "name                             1737 non-null object\n",
      "no_follow                        1737 non-null bool\n",
      "num_comments                     1737 non-null int64\n",
      "num_crossposts                   1737 non-null int64\n",
      "num_reports                      0 non-null float64\n",
      "over_18                          1737 non-null bool\n",
      "parent_whitelist_status          1737 non-null object\n",
      "permalink                        1737 non-null object\n",
      "pinned                           1737 non-null bool\n",
      "post_hint                        1596 non-null object\n",
      "preview                          1596 non-null object\n",
      "pwls                             1737 non-null int64\n",
      "quarantine                       1737 non-null bool\n",
      "removal_reason                   0 non-null float64\n",
      "report_reasons                   0 non-null float64\n",
      "saved                            1737 non-null bool\n",
      "score                            1737 non-null int64\n",
      "secure_media                     29 non-null object\n",
      "secure_media_embed               1737 non-null object\n",
      "selftext                         84 non-null object\n",
      "selftext_html                    84 non-null object\n",
      "send_replies                     1737 non-null bool\n",
      "spoiler                          1737 non-null bool\n",
      "stickied                         1737 non-null bool\n",
      "subreddit                        1737 non-null object\n",
      "subreddit_id                     1737 non-null object\n",
      "subreddit_name_prefixed          1737 non-null object\n",
      "subreddit_subscribers            1737 non-null int64\n",
      "subreddit_type                   1737 non-null object\n",
      "suggested_sort                   0 non-null float64\n",
      "thumbnail                        1737 non-null object\n",
      "thumbnail_height                 1587 non-null float64\n",
      "thumbnail_width                  1587 non-null float64\n",
      "title                            1737 non-null object\n",
      "ups                              1737 non-null int64\n",
      "url                              1737 non-null object\n",
      "user_reports                     1737 non-null object\n",
      "view_count                       0 non-null float64\n",
      "visited                          1737 non-null bool\n",
      "whitelist_status                 1737 non-null object\n",
      "wls                              1737 non-null int64\n",
      "target                           1737 non-null int64\n",
      "dtypes: bool(24), float64(22), int64(10), object(42)\n",
      "memory usage: 1.0+ MB\n"
     ]
    }
   ],
   "source": [
    "comb.info()"
   ]
  },
  {
   "cell_type": "code",
   "execution_count": 62,
   "metadata": {},
   "outputs": [],
   "source": [
    "#drop columns where all of the data is missing will eliminate 18 columns from the dataframe\n",
    "comb = comb.dropna(axis = 1, how = \"all\")\n"
   ]
  },
  {
   "cell_type": "code",
   "execution_count": 63,
   "metadata": {
    "scrolled": true
   },
   "outputs": [
    {
     "name": "stdout",
     "output_type": "stream",
     "text": [
      "<class 'pandas.core.frame.DataFrame'>\n",
      "Int64Index: 1737 entries, 0 to 860\n",
      "Data columns (total 80 columns):\n",
      "archived                    1737 non-null bool\n",
      "author                      1737 non-null object\n",
      "author_cakeday              2 non-null object\n",
      "author_flair_css_class      261 non-null object\n",
      "author_flair_richtext       1735 non-null object\n",
      "author_flair_template_id    175 non-null object\n",
      "author_flair_text           552 non-null object\n",
      "author_flair_text_color     554 non-null object\n",
      "author_flair_type           1735 non-null object\n",
      "author_fullname             1735 non-null object\n",
      "can_gild                    1737 non-null bool\n",
      "can_mod_post                1737 non-null bool\n",
      "clicked                     1737 non-null bool\n",
      "contest_mode                1737 non-null bool\n",
      "created                     1737 non-null float64\n",
      "created_utc                 1737 non-null float64\n",
      "crosspost_parent            97 non-null object\n",
      "crosspost_parent_list       97 non-null object\n",
      "distinguished               5 non-null object\n",
      "domain                      1737 non-null object\n",
      "downs                       1737 non-null int64\n",
      "edited                      1737 non-null object\n",
      "gilded                      1737 non-null int64\n",
      "hidden                      1737 non-null bool\n",
      "hide_score                  1737 non-null bool\n",
      "id                          1737 non-null object\n",
      "is_crosspostable            1737 non-null bool\n",
      "is_meta                     1737 non-null bool\n",
      "is_original_content         1737 non-null bool\n",
      "is_reddit_media_domain      1737 non-null bool\n",
      "is_self                     1737 non-null bool\n",
      "is_video                    1737 non-null bool\n",
      "link_flair_css_class        212 non-null object\n",
      "link_flair_richtext         1737 non-null object\n",
      "link_flair_template_id      17 non-null object\n",
      "link_flair_text             232 non-null object\n",
      "link_flair_text_color       1737 non-null object\n",
      "link_flair_type             1737 non-null object\n",
      "locked                      1737 non-null bool\n",
      "media                       29 non-null object\n",
      "media_embed                 1737 non-null object\n",
      "media_only                  1737 non-null bool\n",
      "mod_reports                 1737 non-null object\n",
      "name                        1737 non-null object\n",
      "no_follow                   1737 non-null bool\n",
      "num_comments                1737 non-null int64\n",
      "num_crossposts              1737 non-null int64\n",
      "over_18                     1737 non-null bool\n",
      "parent_whitelist_status     1737 non-null object\n",
      "permalink                   1737 non-null object\n",
      "pinned                      1737 non-null bool\n",
      "post_hint                   1596 non-null object\n",
      "preview                     1596 non-null object\n",
      "pwls                        1737 non-null int64\n",
      "quarantine                  1737 non-null bool\n",
      "saved                       1737 non-null bool\n",
      "score                       1737 non-null int64\n",
      "secure_media                29 non-null object\n",
      "secure_media_embed          1737 non-null object\n",
      "selftext                    84 non-null object\n",
      "selftext_html               84 non-null object\n",
      "send_replies                1737 non-null bool\n",
      "spoiler                     1737 non-null bool\n",
      "stickied                    1737 non-null bool\n",
      "subreddit                   1737 non-null object\n",
      "subreddit_id                1737 non-null object\n",
      "subreddit_name_prefixed     1737 non-null object\n",
      "subreddit_subscribers       1737 non-null int64\n",
      "subreddit_type              1737 non-null object\n",
      "thumbnail                   1737 non-null object\n",
      "thumbnail_height            1587 non-null float64\n",
      "thumbnail_width             1587 non-null float64\n",
      "title                       1737 non-null object\n",
      "ups                         1737 non-null int64\n",
      "url                         1737 non-null object\n",
      "user_reports                1737 non-null object\n",
      "visited                     1737 non-null bool\n",
      "whitelist_status            1737 non-null object\n",
      "wls                         1737 non-null int64\n",
      "target                      1737 non-null int64\n",
      "dtypes: bool(24), float64(4), int64(10), object(42)\n",
      "memory usage: 814.2+ KB\n"
     ]
    }
   ],
   "source": [
    "comb.info()"
   ]
  },
  {
   "cell_type": "markdown",
   "metadata": {},
   "source": [
    "### Get rid of booleans and int variables.\n",
    "\n",
    "The goal of the analysis is to explore the differences in language between the Democratic and Republican parties.  Therefore, the boolean and integer variables are not necessary for the analysis.  It is possible that they might help predict the reddit the post came from but they will not provide any insight into the variance in language used by each party.  This study wants to focus on the language difference between the posts.  "
   ]
  },
  {
   "cell_type": "code",
   "execution_count": 67,
   "metadata": {},
   "outputs": [],
   "source": [
    "comb = comb.select_dtypes(include = \"object\")"
   ]
  },
  {
   "cell_type": "code",
   "execution_count": 69,
   "metadata": {},
   "outputs": [
    {
     "data": {
      "text/plain": [
       "(1737, 42)"
      ]
     },
     "execution_count": 69,
     "metadata": {},
     "output_type": "execute_result"
    }
   ],
   "source": [
    "comb.shape\n"
   ]
  },
  {
   "cell_type": "code",
   "execution_count": 71,
   "metadata": {},
   "outputs": [
    {
     "name": "stdout",
     "output_type": "stream",
     "text": [
      "<class 'pandas.core.frame.DataFrame'>\n",
      "Int64Index: 1737 entries, 0 to 860\n",
      "Data columns (total 42 columns):\n",
      "author                      1737 non-null object\n",
      "author_cakeday              2 non-null object\n",
      "author_flair_css_class      261 non-null object\n",
      "author_flair_richtext       1735 non-null object\n",
      "author_flair_template_id    175 non-null object\n",
      "author_flair_text           552 non-null object\n",
      "author_flair_text_color     554 non-null object\n",
      "author_flair_type           1735 non-null object\n",
      "author_fullname             1735 non-null object\n",
      "crosspost_parent            97 non-null object\n",
      "crosspost_parent_list       97 non-null object\n",
      "distinguished               5 non-null object\n",
      "domain                      1737 non-null object\n",
      "edited                      1737 non-null object\n",
      "id                          1737 non-null object\n",
      "link_flair_css_class        212 non-null object\n",
      "link_flair_richtext         1737 non-null object\n",
      "link_flair_template_id      17 non-null object\n",
      "link_flair_text             232 non-null object\n",
      "link_flair_text_color       1737 non-null object\n",
      "link_flair_type             1737 non-null object\n",
      "media                       29 non-null object\n",
      "media_embed                 1737 non-null object\n",
      "mod_reports                 1737 non-null object\n",
      "name                        1737 non-null object\n",
      "parent_whitelist_status     1737 non-null object\n",
      "permalink                   1737 non-null object\n",
      "post_hint                   1596 non-null object\n",
      "preview                     1596 non-null object\n",
      "secure_media                29 non-null object\n",
      "secure_media_embed          1737 non-null object\n",
      "selftext                    84 non-null object\n",
      "selftext_html               84 non-null object\n",
      "subreddit                   1737 non-null object\n",
      "subreddit_id                1737 non-null object\n",
      "subreddit_name_prefixed     1737 non-null object\n",
      "subreddit_type              1737 non-null object\n",
      "thumbnail                   1737 non-null object\n",
      "title                       1737 non-null object\n",
      "url                         1737 non-null object\n",
      "user_reports                1737 non-null object\n",
      "whitelist_status            1737 non-null object\n",
      "dtypes: object(42)\n",
      "memory usage: 583.5+ KB\n"
     ]
    }
   ],
   "source": [
    "comb.info()\n",
    "\n"
   ]
  },
  {
   "cell_type": "markdown",
   "metadata": {},
   "source": [
    "### Search for Features to be included in analaysis"
   ]
  },
  {
   "cell_type": "code",
   "execution_count": 64,
   "metadata": {},
   "outputs": [
    {
     "data": {
      "text/plain": [
       "0    THE TIME FOR UNITY IS NOW - A Progressive and ...\n",
       "1                                            Shameful.\n",
       "2    Kavanaugh Hearing Erupts in Chaos as Dems Dema...\n",
       "3    Democrats are driving home that Republicans ke...\n",
       "Name: title, dtype: object"
      ]
     },
     "execution_count": 64,
     "metadata": {},
     "output_type": "execute_result"
    }
   ],
   "source": [
    "comb.title.head(4)"
   ]
  },
  {
   "cell_type": "markdown",
   "metadata": {},
   "source": [
    "The title will contain information that will be helpful in sorting out issues and words that identify Democratic posts v. Conservative posts"
   ]
  },
  {
   "cell_type": "code",
   "execution_count": 85,
   "metadata": {},
   "outputs": [],
   "source": [
    "features = ['title', 'target']\n",
    "test_data = comb[features]"
   ]
  },
  {
   "cell_type": "code",
   "execution_count": 87,
   "metadata": {},
   "outputs": [],
   "source": [
    "test_data.to_csv('./data/combined_data.csv', index = False)"
   ]
  },
  {
   "cell_type": "code",
   "execution_count": null,
   "metadata": {},
   "outputs": [],
   "source": []
  }
 ],
 "metadata": {
  "kernelspec": {
   "display_name": "Python 3",
   "language": "python",
   "name": "python3"
  },
  "language_info": {
   "codemirror_mode": {
    "name": "ipython",
    "version": 3
   },
   "file_extension": ".py",
   "mimetype": "text/x-python",
   "name": "python",
   "nbconvert_exporter": "python",
   "pygments_lexer": "ipython3",
   "version": "3.6.4"
  }
 },
 "nbformat": 4,
 "nbformat_minor": 2
}
