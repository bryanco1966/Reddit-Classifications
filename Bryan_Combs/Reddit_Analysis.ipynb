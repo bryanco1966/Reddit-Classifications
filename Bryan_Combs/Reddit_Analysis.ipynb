{
 "cells": [
  {
   "cell_type": "code",
   "execution_count": 132,
   "metadata": {},
   "outputs": [],
   "source": [
    "import pandas as pd\n",
    "import numpy as np\n",
    "from sklearn.datasets import load_breast_cancer\n",
    "from sklearn.tree import DecisionTreeClassifier\n",
    "from sklearn.model_selection import train_test_split, cross_val_score, GridSearchCV\n",
    "from sklearn.ensemble import BaggingClassifier, RandomForestClassifier, ExtraTreesClassifier"
   ]
  },
  {
   "cell_type": "code",
   "execution_count": 133,
   "metadata": {},
   "outputs": [],
   "source": [
    "df = pd.read_csv('./data/combined_data.csv')"
   ]
  },
  {
   "cell_type": "code",
   "execution_count": 134,
   "metadata": {
    "scrolled": true
   },
   "outputs": [
    {
     "data": {
      "text/plain": [
       "(1675, 2)"
      ]
     },
     "execution_count": 134,
     "metadata": {},
     "output_type": "execute_result"
    }
   ],
   "source": [
    "df.shape\n"
   ]
  },
  {
   "cell_type": "markdown",
   "metadata": {},
   "source": [
    "## Train Test Split\n",
    "\n",
    "It is important that we split the data before we start training our model or create our vectorization.  When applying the model it will have no concept of the word from the original model so the data needs to be split and fit only on the training data."
   ]
  },
  {
   "cell_type": "code",
   "execution_count": 135,
   "metadata": {},
   "outputs": [],
   "source": [
    "X = df.title\n",
    "y = df.target\n",
    "\n",
    "X_train, X_test, y_train, y_test = train_test_split(X, y, stratify = y, random_state = 42)"
   ]
  },
  {
   "cell_type": "markdown",
   "metadata": {},
   "source": [
    "## Count Vectorization"
   ]
  },
  {
   "cell_type": "code",
   "execution_count": 136,
   "metadata": {},
   "outputs": [],
   "source": [
    "from sklearn.feature_extraction.text import CountVectorizer\n",
    "from sklearn.feature_extraction import stop_words\n"
   ]
  },
  {
   "cell_type": "code",
   "execution_count": 137,
   "metadata": {},
   "outputs": [],
   "source": [
    "cvec = CountVectorizer(min_df = 3, stop_words='english')\n",
    "cvec.fit(X_train);"
   ]
  },
  {
   "cell_type": "code",
   "execution_count": 138,
   "metadata": {},
   "outputs": [],
   "source": [
    "X_train = cvec.transform(X_train)\n",
    "X_test = cvec.transform(X_test)"
   ]
  },
  {
   "cell_type": "code",
   "execution_count": 139,
   "metadata": {},
   "outputs": [
    {
     "data": {
      "text/plain": [
       "(1256, 1182)"
      ]
     },
     "execution_count": 139,
     "metadata": {},
     "output_type": "execute_result"
    }
   ],
   "source": [
    "X_train.shape"
   ]
  },
  {
   "cell_type": "code",
   "execution_count": 140,
   "metadata": {},
   "outputs": [
    {
     "data": {
      "text/plain": [
       "(419, 1182)"
      ]
     },
     "execution_count": 140,
     "metadata": {},
     "output_type": "execute_result"
    }
   ],
   "source": [
    "X_test.shape"
   ]
  },
  {
   "cell_type": "markdown",
   "metadata": {},
   "source": [
    "### Random Forest model"
   ]
  },
  {
   "cell_type": "code",
   "execution_count": 141,
   "metadata": {},
   "outputs": [],
   "source": [
    "from sklearn.ensemble import RandomForestClassifier\n",
    "from sklearn.model_selection import GridSearchCV"
   ]
  },
  {
   "cell_type": "code",
   "execution_count": 142,
   "metadata": {},
   "outputs": [
    {
     "name": "stdout",
     "output_type": "stream",
     "text": [
      "0.7070063694267515\n"
     ]
    }
   ],
   "source": [
    "rf = RandomForestClassifier()\n",
    "rf_params = {\n",
    "    'n_estimators' : [12, 14, 16],\n",
    "    'max_depth'    : [10, 12, 14]\n",
    "    \n",
    "}\n",
    "\n",
    "gs = GridSearchCV(rf, param_grid=rf_params)\n",
    "gs.fit(X_train, y_train)\n",
    "print(gs.best_score_)"
   ]
  },
  {
   "cell_type": "code",
   "execution_count": 143,
   "metadata": {},
   "outputs": [
    {
     "data": {
      "text/plain": [
       "0.6873508353221957"
      ]
     },
     "execution_count": 143,
     "metadata": {},
     "output_type": "execute_result"
    }
   ],
   "source": [
    "gs.score(X_test, y_test)"
   ]
  },
  {
   "cell_type": "code",
   "execution_count": 144,
   "metadata": {
    "scrolled": true
   },
   "outputs": [
    {
     "data": {
      "text/plain": [
       "{'max_depth': 14, 'n_estimators': 12}"
      ]
     },
     "execution_count": 144,
     "metadata": {},
     "output_type": "execute_result"
    }
   ],
   "source": [
    "gs.best_params_"
   ]
  },
  {
   "cell_type": "markdown",
   "metadata": {},
   "source": [
    "### Extra Tree"
   ]
  },
  {
   "cell_type": "markdown",
   "metadata": {},
   "source": [
    "### KNN"
   ]
  },
  {
   "cell_type": "code",
   "execution_count": 131,
   "metadata": {},
   "outputs": [
    {
     "ename": "SyntaxError",
     "evalue": "invalid syntax (<ipython-input-131-f8934e568edb>, line 1)",
     "output_type": "error",
     "traceback": [
      "\u001b[0;36m  File \u001b[0;32m\"<ipython-input-131-f8934e568edb>\"\u001b[0;36m, line \u001b[0;32m1\u001b[0m\n\u001b[0;31m    from sklearn.\u001b[0m\n\u001b[0m                 ^\u001b[0m\n\u001b[0;31mSyntaxError\u001b[0m\u001b[0;31m:\u001b[0m invalid syntax\n"
     ]
    }
   ],
   "source": [
    "from sklearn."
   ]
  },
  {
   "cell_type": "markdown",
   "metadata": {},
   "source": [
    "### Logistic Regression"
   ]
  },
  {
   "cell_type": "code",
   "execution_count": 145,
   "metadata": {},
   "outputs": [],
   "source": [
    "from sklearn.linear_model import LogisticRegression\n"
   ]
  },
  {
   "cell_type": "code",
   "execution_count": 146,
   "metadata": {},
   "outputs": [],
   "source": [
    "lr = LogisticRegression()\n",
    "lr_params = {\n",
    "    'penalty'  : ['l1', 'l2']\n",
    "    \n",
    "    \n",
    "}"
   ]
  },
  {
   "cell_type": "code",
   "execution_count": 147,
   "metadata": {},
   "outputs": [
    {
     "name": "stdout",
     "output_type": "stream",
     "text": [
      "0.7014331210191083\n"
     ]
    }
   ],
   "source": [
    "gs = GridSearchCV(lr, param_grid=lr_params)\n",
    "gs.fit(X_train, y_train)\n",
    "print(gs.best_score_)"
   ]
  },
  {
   "cell_type": "code",
   "execution_count": 148,
   "metadata": {},
   "outputs": [
    {
     "data": {
      "text/plain": [
       "0.6897374701670644"
      ]
     },
     "execution_count": 148,
     "metadata": {},
     "output_type": "execute_result"
    }
   ],
   "source": [
    "gs.score(X_test, y_test)"
   ]
  },
  {
   "cell_type": "code",
   "execution_count": 149,
   "metadata": {},
   "outputs": [
    {
     "data": {
      "text/plain": [
       "{'penalty': 'l1'}"
      ]
     },
     "execution_count": 149,
     "metadata": {},
     "output_type": "execute_result"
    }
   ],
   "source": [
    "gs.best_params_"
   ]
  },
  {
   "cell_type": "code",
   "execution_count": 97,
   "metadata": {},
   "outputs": [
    {
     "data": {
      "text/plain": [
       "array([[-3.35397633e-02, -1.36306374e-02, -7.45805679e-01,\n",
       "        -6.34241444e-01,  9.95420539e-01,  5.02195007e-01,\n",
       "         7.16240509e-02,  6.03350865e-01, -5.04783850e-01,\n",
       "         2.30628403e-03,  6.75254648e-02, -3.07896096e-01,\n",
       "         7.72559400e-02, -9.05144693e-01, -3.03932213e-02,\n",
       "         3.14280266e-01,  4.25434291e-02, -2.55110328e-01,\n",
       "         2.03414006e-01,  5.99172212e-01,  7.20978804e-01,\n",
       "         1.07557892e+00, -5.41791047e-01, -3.85762687e-01,\n",
       "         1.84743702e-01, -2.22485509e-01, -2.46058508e-01,\n",
       "        -6.17852469e-01, -3.16921572e-01,  2.98751193e-01,\n",
       "        -3.39655944e-01, -7.06181805e-01, -6.14579069e-01,\n",
       "         4.73015393e-01, -1.07639377e+00, -9.20176921e-01,\n",
       "         1.00248208e-01,  7.05141885e-02,  1.39655502e-01,\n",
       "        -1.93025324e-01,  1.73779433e-01,  1.39909421e+00,\n",
       "        -1.26654070e+00,  1.73410657e-01,  3.57975280e-02,\n",
       "        -2.79610831e-01,  5.97829491e-01,  1.83054372e-01,\n",
       "        -4.25989784e-01, -5.59857101e-01,  4.27801057e-01,\n",
       "         1.13777508e+00,  1.99020436e-02,  1.83993395e-01,\n",
       "        -2.00583446e-01,  5.12826301e-01,  4.92871451e-01,\n",
       "         2.76607565e-01,  5.49589440e-01, -6.60295725e-01,\n",
       "         3.10241993e-03, -3.48625408e-01, -7.38071349e-02,\n",
       "         6.88330789e-01, -9.98009305e-01, -9.48010414e-03,\n",
       "         6.65236612e-01, -4.34127678e-01,  2.98415793e-01,\n",
       "         2.04322742e-01, -1.94259616e-01,  1.10952138e+00,\n",
       "        -5.53300754e-02, -4.98983205e-01, -1.03251929e+00,\n",
       "         2.25966584e-01, -5.26541560e-02, -3.65337351e-01,\n",
       "         1.41338376e-01,  2.38835831e-01, -6.11818783e-01,\n",
       "        -5.22690895e-01,  8.08704677e-01,  2.84916086e-01,\n",
       "         1.67337122e-01, -8.00014978e-01, -3.84489400e-01,\n",
       "        -4.03847151e-01,  1.19901386e-01, -1.06884529e-01,\n",
       "        -1.46686249e-01,  6.17702128e-01, -1.35988137e-01,\n",
       "        -1.20582781e+00, -1.13892539e+00, -9.93293742e-01,\n",
       "         6.78957005e-01,  1.81643009e-01, -2.63652836e-01,\n",
       "        -1.13690706e-01, -1.27211286e+00, -3.64371641e-01,\n",
       "         4.04974656e-01, -6.05246982e-01, -6.55104824e-02,\n",
       "        -6.45581249e-01, -6.72571728e-01,  6.03305932e-01,\n",
       "        -1.29721087e-01,  3.21986862e-01, -4.49651139e-01,\n",
       "        -1.05854918e+00,  3.65454687e-01, -9.31921869e-01,\n",
       "         9.66493755e-01, -8.58751505e-01, -1.31471490e-01,\n",
       "        -3.18851825e-01,  6.83119627e-02,  1.15244300e+00,\n",
       "         6.10109306e-01, -5.18980175e-01, -4.29966201e-01,\n",
       "         1.13948617e+00,  4.24930034e-04,  3.82449806e-01,\n",
       "        -8.68757871e-01,  8.20135225e-02,  5.52333851e-02,\n",
       "         4.59181940e-01,  1.19352497e+00, -1.55175447e-02,\n",
       "        -3.61072056e-01,  1.05002489e+00, -4.23472940e-01,\n",
       "        -1.63135458e+00,  9.25397963e-01,  2.36767272e-01,\n",
       "         3.02236863e-01, -7.72457700e-01,  1.92228877e-01,\n",
       "        -6.96440021e-01, -3.79174370e-01, -2.15899980e-01,\n",
       "        -6.60978756e-01, -2.54230830e-01,  7.87654554e-01,\n",
       "         1.04865639e-01, -3.64490417e-01, -3.20641565e-02,\n",
       "        -6.06806891e-02, -8.20177570e-01,  1.37735919e-01,\n",
       "        -7.15151784e-01, -4.37127397e-01,  5.21048206e-01,\n",
       "         2.10393147e-01, -1.40853929e-01,  2.57572252e-01,\n",
       "        -3.64586407e-01,  4.91638082e-01, -9.40034540e-01,\n",
       "        -8.37613897e-01, -4.35421820e-01, -1.44356808e-01,\n",
       "        -7.23070557e-01, -5.99672164e-01,  1.06753288e+00,\n",
       "         2.84275722e-01, -5.42344520e-01, -1.00900394e-01,\n",
       "         9.11013758e-01, -6.73281336e-01,  1.02440505e-02,\n",
       "         1.42136313e-01, -1.01355854e-01, -2.66703690e-01,\n",
       "        -6.05846727e-01, -7.49715286e-01,  1.02803215e-01,\n",
       "         9.74747160e-01, -7.13770085e-02, -4.65112029e-01,\n",
       "         4.96296207e-01,  6.43595533e-01,  6.27695290e-02,\n",
       "        -4.43334385e-01,  4.17325687e-01, -5.50076661e-01,\n",
       "        -1.60649176e-01,  3.28979985e-01, -7.57597856e-01,\n",
       "        -6.80361241e-02,  8.13689522e-01, -6.06801535e-01,\n",
       "        -2.52067743e-01,  3.46465035e-01,  5.97107039e-01,\n",
       "        -1.31553244e+00,  3.21607873e-01,  3.36061793e-02,\n",
       "        -6.73848932e-01,  1.12282724e+00, -4.33506933e-01,\n",
       "        -3.25806198e-01, -4.72436352e-01,  8.62807947e-01,\n",
       "         2.21782683e-01, -4.44393001e-01, -7.35815027e-02,\n",
       "        -3.78228256e-01, -1.47592082e-01,  7.54863131e-01,\n",
       "        -7.49097917e-01,  1.23451671e-01, -3.37672766e-01,\n",
       "         2.74370859e-01,  9.30765017e-01, -8.94361889e-01,\n",
       "         2.34575594e-01, -3.40950156e-01, -8.37957061e-02,\n",
       "        -2.81409795e-01, -1.54569340e-01, -6.65134075e-02,\n",
       "         1.06461699e+00,  1.42606828e-01, -1.14885790e+00,\n",
       "        -5.98027943e-01, -1.78356745e-02,  2.25966584e-01,\n",
       "         6.08340631e-01,  9.43070505e-01,  2.90979653e-01,\n",
       "        -3.17015956e-01, -5.58698384e-02, -1.02672783e-01,\n",
       "         5.75600181e-01, -5.26556503e-02, -1.31698074e-01,\n",
       "        -1.71223228e-01, -1.19828417e-01, -9.94765317e-01,\n",
       "        -5.81002449e-01,  9.57447107e-02, -3.38016372e-01,\n",
       "        -7.47892464e-03,  8.55397310e-01, -1.51076189e-01,\n",
       "        -1.12478189e+00, -1.26746046e+00, -7.61838367e-01,\n",
       "         5.26819640e-01, -4.16396288e-01,  2.96743339e-01,\n",
       "         2.20862357e-01, -1.25391922e+00, -8.10080670e-01,\n",
       "         5.12650171e-01, -1.02655994e+00,  5.92611824e-02,\n",
       "        -8.53474114e-01, -3.63086659e-01,  1.00580916e+00,\n",
       "        -6.41580319e-01, -1.46255809e-01,  3.50922553e-01,\n",
       "        -5.55406056e-01, -6.35828653e-01,  1.16193932e+00,\n",
       "         6.99591314e-01, -1.67711048e+00, -1.40412665e+00,\n",
       "        -1.30701182e+00, -8.83442972e-01, -2.88475025e-01,\n",
       "        -1.00419023e+00,  1.13537907e-01, -1.02520088e+00,\n",
       "        -4.57367703e-01, -1.77694678e-01, -1.59000917e-01,\n",
       "        -5.18725074e-01, -6.07749281e-01,  1.32696990e-01,\n",
       "         3.28630087e-01, -9.12966158e-01, -5.53782279e-02,\n",
       "        -4.14126776e-01, -7.28318273e-01, -7.86155300e-01,\n",
       "        -6.77657107e-01, -3.43720798e-01,  6.93917612e-01,\n",
       "        -5.10741838e-01,  2.37836523e-01, -1.27757824e+00,\n",
       "         9.48859652e-01, -6.37320473e-01,  4.02220968e-01,\n",
       "         3.05084830e-01,  5.85925561e-01,  5.32012130e-01,\n",
       "        -3.74964776e-01, -4.15684556e-01,  2.94050195e-02,\n",
       "        -7.05412715e-02,  2.59753127e-01, -4.91841280e-02,\n",
       "         5.81394998e-01, -7.21898563e-01,  6.83663682e-01,\n",
       "        -1.91902862e-01,  5.69252637e-01, -2.27990680e-01,\n",
       "        -8.16660916e-01, -4.92405324e-01, -9.74505713e-01,\n",
       "         2.81898460e-01, -5.59364935e-01, -9.40655856e-02,\n",
       "        -4.72739669e-01, -9.47708271e-01, -3.34897734e-01,\n",
       "        -4.34045600e-01, -3.45037446e-01,  3.16881895e-01,\n",
       "        -8.96156705e-02, -3.93001269e-02,  2.72255841e-01,\n",
       "        -9.85737006e-01,  4.60581214e-03,  6.33163023e-01,\n",
       "         4.53312988e-01, -1.08881773e+00, -9.01091126e-01,\n",
       "         4.12057112e-01, -4.35133413e-01, -4.78841924e-01,\n",
       "        -5.47668585e-01, -1.69321330e+00, -3.73467772e-01,\n",
       "        -2.17177658e-02,  3.40334189e-01, -2.46655829e-01,\n",
       "        -6.44117311e-03, -4.61010222e-01, -5.88518922e-01,\n",
       "         6.06486318e-03,  3.71881847e-01, -4.89804959e-02,\n",
       "         1.92539542e-01, -4.06818125e-01,  4.03558747e-01,\n",
       "        -1.22582023e+00,  7.10412804e-04,  4.86813926e-01,\n",
       "         1.70844171e-01,  1.31013537e-01,  3.59530125e-01,\n",
       "         4.48586743e-01, -3.12514207e-01, -6.32023097e-01,\n",
       "        -6.15043127e-01,  3.34315507e-01, -5.74098109e-01,\n",
       "        -5.52887587e-01,  3.41029414e-01,  3.37948060e-01,\n",
       "        -1.08006590e+00,  3.44875527e-01]])"
      ]
     },
     "execution_count": 97,
     "metadata": {},
     "output_type": "execute_result"
    }
   ],
   "source": [
    "lr.fit(X_train, y_train)\n",
    "lr.coef_"
   ]
  },
  {
   "cell_type": "markdown",
   "metadata": {},
   "source": [
    "### Naive Bayes"
   ]
  },
  {
   "cell_type": "markdown",
   "metadata": {},
   "source": [
    "### SVM Model"
   ]
  },
  {
   "cell_type": "code",
   "execution_count": 150,
   "metadata": {},
   "outputs": [],
   "source": [
    "from sklearn import svm, linear_model, datasets\n",
    "from sklearn.model_selection import cross_val_score"
   ]
  },
  {
   "cell_type": "code",
   "execution_count": 151,
   "metadata": {},
   "outputs": [],
   "source": [
    "sv_m = svm.SVC() \n",
    "sv_m_params =  {\n",
    "    \"C\"       : [.01,.1,.5],\n",
    "    \"kernel\"  : ['rbf', 'linear', 'poly']\n",
    "}\n",
    "\n"
   ]
  },
  {
   "cell_type": "code",
   "execution_count": 152,
   "metadata": {},
   "outputs": [
    {
     "name": "stdout",
     "output_type": "stream",
     "text": [
      "0.7078025477707006\n"
     ]
    }
   ],
   "source": [
    "gs = GridSearchCV(sv_m, param_grid=sv_m_params)\n",
    "gs.fit(X_train, y_train)\n",
    "print(gs.best_score_)"
   ]
  },
  {
   "cell_type": "code",
   "execution_count": 153,
   "metadata": {},
   "outputs": [
    {
     "data": {
      "text/plain": [
       "0.7136038186157518"
      ]
     },
     "execution_count": 153,
     "metadata": {},
     "output_type": "execute_result"
    }
   ],
   "source": [
    "gs.score(X_test, y_test)"
   ]
  },
  {
   "cell_type": "code",
   "execution_count": 154,
   "metadata": {},
   "outputs": [
    {
     "data": {
      "text/plain": [
       "{'C': 0.1, 'kernel': 'linear'}"
      ]
     },
     "execution_count": 154,
     "metadata": {},
     "output_type": "execute_result"
    }
   ],
   "source": [
    "gs.best_params_"
   ]
  },
  {
   "cell_type": "markdown",
   "metadata": {},
   "source": [
    "### Adaboost Model"
   ]
  },
  {
   "cell_type": "code",
   "execution_count": 158,
   "metadata": {},
   "outputs": [],
   "source": [
    "from sklearn.ensemble import AdaBoostClassifier"
   ]
  },
  {
   "cell_type": "code",
   "execution_count": 167,
   "metadata": {},
   "outputs": [],
   "source": [
    "ada = AdaBoostClassifier()\n",
    "ada_params = {\n",
    "    'n_estimators' : [30, 40, 50, 55],\n",
    "    'learning_rate': [.7, .8, .9],\n",
    "}\n"
   ]
  },
  {
   "cell_type": "code",
   "execution_count": 168,
   "metadata": {},
   "outputs": [
    {
     "name": "stdout",
     "output_type": "stream",
     "text": [
      "0.6902866242038217\n"
     ]
    }
   ],
   "source": [
    "gs = GridSearchCV(ada, param_grid=ada_params, cv=3)\n",
    "gs.fit(X_train, y_train)\n",
    "print(gs.best_score_)"
   ]
  },
  {
   "cell_type": "code",
   "execution_count": 169,
   "metadata": {},
   "outputs": [
    {
     "data": {
      "text/plain": [
       "{'learning_rate': 0.8, 'n_estimators': 40}"
      ]
     },
     "execution_count": 169,
     "metadata": {},
     "output_type": "execute_result"
    }
   ],
   "source": [
    "gs.best_params_"
   ]
  },
  {
   "cell_type": "code",
   "execution_count": 170,
   "metadata": {},
   "outputs": [
    {
     "data": {
      "text/plain": [
       "0.7016706443914081"
      ]
     },
     "execution_count": 170,
     "metadata": {},
     "output_type": "execute_result"
    }
   ],
   "source": [
    "gs.score(X_test, y_test)"
   ]
  },
  {
   "cell_type": "markdown",
   "metadata": {},
   "source": [
    "### Voting Classifier"
   ]
  },
  {
   "cell_type": "code",
   "execution_count": 155,
   "metadata": {},
   "outputs": [],
   "source": [
    "from sklearn.ensemble import VotingClassifier"
   ]
  },
  {
   "cell_type": "code",
   "execution_count": null,
   "metadata": {},
   "outputs": [],
   "source": [
    "vote = VotingClassifier([\n",
    "     ('rf', RandomForestClassifier()),\n",
    "     ('lr', LogisticRegression()),\n",
    "     ('knn', KNeighborsClassifier()),\n",
    "     ('sv_m', svm.SVC()),\n",
    "     ('nb', NaiveBayes()),\n",
    "])"
   ]
  }
 ],
 "metadata": {
  "kernelspec": {
   "display_name": "Python 3",
   "language": "python",
   "name": "python3"
  },
  "language_info": {
   "codemirror_mode": {
    "name": "ipython",
    "version": 3
   },
   "file_extension": ".py",
   "mimetype": "text/x-python",
   "name": "python",
   "nbconvert_exporter": "python",
   "pygments_lexer": "ipython3",
   "version": "3.6.4"
  }
 },
 "nbformat": 4,
 "nbformat_minor": 2
}
